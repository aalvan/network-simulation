{
 "cells": [
  {
   "cell_type": "code",
   "execution_count": null,
   "id": "d4d28eaf",
   "metadata": {},
   "outputs": [
    {
     "name": "stdout",
     "output_type": "stream",
     "text": [
      "Número de lanzamientos: 100000000\n",
      "2 decimales en un tiempo de 241.2303340435028\n",
      "3.1400000167945943\n",
      "4 decimales en un tiempo de 241.2906310558319\n",
      "3.141500135868685\n",
      "6 decimales en un tiempo de 241.29433393478394\n",
      "3.141592023955316\n",
      "8 decimales en un tiempo de 241.29463601112366\n",
      "3.141592658071069\n"
     ]
    }
   ],
   "source": [
    "import math\n",
    "import random\n",
    "import time\n",
    "\n",
    "def truncate(num, n):\n",
    "    integer = int(num * (10**n))/(10**n)\n",
    "    return float(integer)\n",
    "\n",
    "def distancia(x,y): \n",
    "    return(math.sqrt(x**2 + y**2))\n",
    "\n",
    "def lanzamiento():\n",
    "    x=random.random()\n",
    "    y=random.random()\n",
    "    return(distancia(x,y)<=1)\n",
    "    \n",
    "valor = int(input(\"Número de lanzamientos: \"))\n",
    "\n",
    "def resultado(valor):\n",
    "    time_start=time.time()\n",
    "    exitos = 0\n",
    "    num_lanzamientos = valor\n",
    "    dos = True\n",
    "    cuatro = True\n",
    "    seis = True\n",
    "    ocho = True\n",
    "    while (num_lanzamientos > 0):\n",
    "        if lanzamiento():\n",
    "            exitos+=1\n",
    "        num_pi = (exitos/num_lanzamientos)*4\n",
    "        #print (num_pi)\n",
    "        if ((truncate(num_pi,8) == 3.14159265) and (ocho == True)):\n",
    "            tiempo = time.time() - time_start\n",
    "            print(f\"8 decimales en un tiempo de {tiempo}\")\n",
    "            ocho = False\n",
    "            print(num_pi)\n",
    "        elif ((truncate(num_pi,6) == 3.141592) and (seis == True)):\n",
    "            tiempo = time.time() - time_start\n",
    "            print(f\"6 decimales en un tiempo de {tiempo}\")\n",
    "            seis = False\n",
    "            print(num_pi)\n",
    "        elif (truncate(num_pi,4) == 3.1415) and (cuatro == True):\n",
    "            tiempo = time.time() - time_start\n",
    "            print(f\"4 decimales en un tiempo de {tiempo}\")\n",
    "            cuatro = False\n",
    "            print(num_pi)\n",
    "        elif (truncate(num_pi,2) == 3.14) and (dos == True):\n",
    "            tiempo = time.time() - time_start\n",
    "            print(f\"2 decimales en un tiempo de {tiempo}\")\n",
    "            dos = False\n",
    "            print(num_pi)\n",
    "        num_lanzamientos -= 1\n",
    "resultado(valor)\n",
    "    \n",
    "    #tiempo = time.time() - time_start\n",
    "    #num_pi = (exitos/valor)*4\n",
    "    #print(f\"El valor pi es: {num_pi}, en un tiempo de {tiempo}\")\n"
   ]
  }
 ],
 "metadata": {
  "kernelspec": {
   "display_name": "Python 3 (ipykernel)",
   "language": "python",
   "name": "python3"
  },
  "language_info": {
   "codemirror_mode": {
    "name": "ipython",
    "version": 3
   },
   "file_extension": ".py",
   "mimetype": "text/x-python",
   "name": "python",
   "nbconvert_exporter": "python",
   "pygments_lexer": "ipython3",
   "version": "3.9.6"
  }
 },
 "nbformat": 4,
 "nbformat_minor": 5
}
