{
 "cells": [
  {
   "cell_type": "code",
   "execution_count": 1,
   "id": "a6eb904a",
   "metadata": {},
   "outputs": [],
   "source": [
    "import numpy as np\n",
    "\n",
    "# Generación de tiempos aleatorios Exp(lambda)\n",
    "def randExp(lamb,size=1):    \n",
    "    pt = np.random.rand(size)\n",
    "    return (-1/lamb)*np.log(pt)\n",
    "\n",
    "# Distribución exponencial Exp(lambda)\n",
    "def expDist(lamb,x):\n",
    "    return lamb*np.exp(-lamb*x)"
   ]
  },
  {
   "cell_type": "code",
   "execution_count": 2,
   "id": "b3d9de72",
   "metadata": {},
   "outputs": [],
   "source": [
    "from operator import itemgetter\n",
    "def initilization(m, c, Lamb, Mu):\n",
    "    global M,C,lamb,mu\n",
    "    M = m\n",
    "    C = c\n",
    "    lamb = Lamb\n",
    "    mu = Mu\n",
    "    if ((lamb/mu < 0.1)or(lamb/mu > 0.4) or (C > M)):\n",
    "        print(\"Ingrese unos valores validos para lambda\")\n",
    "        return\n",
    "    else:\n",
    "        global U, B ,arrivals\n",
    "        B = arrivals = U = 0\n",
    "        global FEL\n",
    "        FEL = []\n",
    "        for i in range(M):\n",
    "            tiempo = randExp(lamb) \n",
    "            FEL.append((i,tiempo))\n",
    "        FEL.sort(key=itemgetter(1))\n",
    "        return FEL"
   ]
  },
  {
   "cell_type": "code",
   "execution_count": null,
   "id": "60927729",
   "metadata": {},
   "outputs": [],
   "source": [
    "def arrive(p_bloqueo):\n",
    "    global arrivals, U, B\n",
    "    arrivals += 1\n",
    "    if U == C:\n",
    "        B += 1\n",
    "        if (arrivals%sample==0):\n",
    "            list_arrives.append(arrivals)\n",
    "            p_bloqueo = p_bloqueo + (B/arrivals)\n",
    "            #print(\"p_bloqueo:\",p_bloqueo)\n",
    "            #print(\"B:\", B)\n",
    "            #print(\"arrivals:\", arrivals)\n",
    "            list_bloqueos.append(p_bloqueo)\n",
    "        # Evento Arribo por bloqueo\n",
    "        tiempoArribo = eventoActual[1] + randExp(lamb)\n",
    "        FEL.append((eventoActual[0], tiempoArribo))\n",
    "        FEL.sort(key=itemgetter(1))\n",
    "    else:\n",
    "        U +=1\n",
    "        # Evento Salida por atención\n",
    "        tiempoSalida = eventoActual[1] + randExp(mu)\n",
    "        FEL.append((eventoActual[0]+M, tiempoSalida))\n",
    "        FEL.sort(key=itemgetter(1))"
   ]
  },
  {
   "cell_type": "code",
   "execution_count": 4,
   "id": "afe59f4a",
   "metadata": {},
   "outputs": [],
   "source": [
    "def exit():\n",
    "    global U\n",
    "    U -= 1\n",
    "    # Evento Arribo por salida\n",
    "    tiempoArribo = eventoActual[1] + randExp(lamb)\n",
    "    FEL.append((eventoActual[0]-M, tiempoArribo))\n",
    "    FEL.sort(key=itemgetter(1))"
   ]
  },
  {
   "cell_type": "code",
   "execution_count": null,
   "id": "848bb426",
   "metadata": {},
   "outputs": [],
   "source": []
  }
 ],
 "metadata": {
  "kernelspec": {
   "display_name": "dm-env",
   "language": "python",
   "name": "dm-env"
  },
  "language_info": {
   "codemirror_mode": {
    "name": "ipython",
    "version": 3
   },
   "file_extension": ".py",
   "mimetype": "text/x-python",
   "name": "python",
   "nbconvert_exporter": "python",
   "pygments_lexer": "ipython3",
   "version": "3.9.6"
  }
 },
 "nbformat": 4,
 "nbformat_minor": 5
}
