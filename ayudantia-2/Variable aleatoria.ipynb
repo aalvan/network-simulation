{
 "cells": [
  {
   "cell_type": "markdown",
   "metadata": {},
   "source": [
    "<h1 align=\"center\"> TEL341 Simulación de Redes  </h1>\n",
    "<h2 align=\"center\"> Ayudantía 2 - Generación de variable aleatoria <h2>\n",
    "<h2 align=\"center\"> <img src=\"https://jupyter.org/assets/homepage/main-logo.svg\" width=\"150\"> </h2>"
   ]
  },
  {
   "cell_type": "markdown",
   "metadata": {},
   "source": [
    "## Trabajando con Variables Aleatorias\n",
    "\n",
    "En el curso se usará la variable aleatoria exponencial X ~ Exp($\\lambda$), a continuación se explicará como poder obtener muestras de la variable aleatoria exponencial.\n",
    "\n",
    "Una posible método que es sencillo de utilizar corresponde al método de la transformada inversa ya que es sencilla de trabajar\n",
    "\n",
    "### Método de la transformada inversa \n",
    "Sea X una variable aleatoria con función de distribución de probabilidad acumulada $F$, continua e invertible, y sea $F^{-1}$ su función inversa. Entonces, la variable aleatoria U=F(X) tiene distribución uniforme en [0,1]. Como consecuencia, si U es una variable aleatoria uniforme en [0,1] entonces la variable aleatoria $F^{-1}(U)=X$ satisface la distribución F\n",
    "\n",
    "Dada la función de densidad de probabilidad (PDF), se elabora la CDF como: <br><br>\n",
    "\n",
    "<center> $F(x) = \\int\\limits_{-\\infty}^x f(x) dx$ <center>\n",
    "\n",
    "Ahora si consideramos $ f(x) = \\lambda e^{-\\lambda x}$ una función de distribución exponencial podemos elaborar su CDF y elaborar para obtener una expresión que nos permita generar tiempos aleatorios. <br><br>\n",
    "\n",
    "<center> $F(x) = \\int\\limits_{-\\infty}^x \\lambda e^{-\\lambda x} dx$ <center>\n",
    "<center> $F(x) =  1 - e^{-\\lambda x} ; \\forall x \\geq 0$   <center> <br>\n",
    "    \n",
    " Por ende, una muestra **x** de tiempo de la distribución $Exp(\\lambda)$ quedaría dada por: <br><br>\n",
    "    \n",
    "<center> $x = F^{-1}(x) =  - \\frac{1}{\\lambda} ln(1 - u)$ <center> <br>    \n",
    "<center> $x = - \\frac{1}{\\lambda} ln(1 - u)$ <center> <br>   \n",
    "\n",
    "Así como la variable aleatoria (1 - u) también se encuentra distribuida por una variable uniforme en [0,1] podemos obtener x como un tiempo aleatorio. \n",
    "    \n",
    "¿Por qué distribución exponencial? Se utiliza para modelar tiempos de espera para la ocurrencia de un cierto evento "
   ]
  },
  {
   "cell_type": "code",
   "execution_count": 1,
   "metadata": {},
   "outputs": [],
   "source": [
    "import numpy as np\n",
    "from matplotlib import pyplot as plt"
   ]
  },
  {
   "cell_type": "code",
   "execution_count": 3,
   "metadata": {},
   "outputs": [],
   "source": [
    "# Generación de tiempos aleatorios Exp(lambda)\n",
    "def randExp(lamb,size=1):    \n",
    "    pt = np.random.rand(size)\n",
    "    return (-1/lamb)*np.log(pt)\n",
    "\n",
    "# Distribución exponencial Exp(lambda)\n",
    "def expDist(lamb,x):\n",
    "    return lamb*np.exp(-lamb*x)"
   ]
  },
  {
   "cell_type": "code",
   "execution_count": 4,
   "metadata": {},
   "outputs": [
    {
     "data": {
      "text/plain": [
       "array([0.34079701])"
      ]
     },
     "execution_count": 4,
     "metadata": {},
     "output_type": "execute_result"
    }
   ],
   "source": [
    "exp = randExp(3)\n",
    "exp"
   ]
  },
  {
   "cell_type": "code",
   "execution_count": 5,
   "metadata": {},
   "outputs": [
    {
     "data": {
      "text/plain": [
       "array([0.08807153, 0.24953051, 0.24750145, 0.23462777, 0.06008804,\n",
       "       0.14567866, 0.39954144, 0.22038415, 0.22715214, 0.49597091])"
      ]
     },
     "execution_count": 5,
     "metadata": {},
     "output_type": "execute_result"
    }
   ],
   "source": [
    "exp = randExp(3,size=10)\n",
    "exp"
   ]
  },
  {
   "cell_type": "markdown",
   "metadata": {},
   "source": [
    "### Procedimiento de la demostración\n",
    "\n",
    "1. Se generaron 1000 muestras de Exp($\\lambda$=3)\n",
    "2. Se calcula el estimador $\\overline{\\lambda} = \\frac{1}{\\overline{x}}$ donde $\\overline{x}=$ media de muestra generada\n",
    "3. Se calcula el valor *k* aplicando la fórmula de Sturges (Indica el número de clases necesarias para elaborar un histograma)\n",
    "4. Se crea una figura para graficar los valores\n",
    "5. Se crea un histograma con los datos\n",
    "6. Se plotea la función teorica para la distribución exponencial \n",
    "7. Se plotea la función generada para la distribución exponencial\n",
    "8. Se agrega la leyenda y titulo al gráfico\n",
    "9. Se muestra la figura resultante con los datos graficados\n",
    "10. Se muestra el resultado del estimador. "
   ]
  },
  {
   "cell_type": "code",
   "execution_count": 29,
   "metadata": {},
   "outputs": [
    {
     "data": {
      "image/png": "[encoded data removed]",
      "text/plain": [
       "<Figure size 576x576 with 1 Axes>"
      ]
     },
     "metadata": {
      "needs_background": "light"
     },
     "output_type": "display_data"
    },
    {
     "name": "stdout",
     "output_type": "stream",
     "text": [
      "Valor del estimador: 2.9553217900738207\n"
     ]
    }
   ],
   "source": [
    "### Comparación entre valores teóricos y generados\n",
    "exp = randExp(3,size=1000)\n",
    "lambda_mean = 1/exp.mean()\n",
    "\n",
    "k = (int)(np.ceil(np.log2(exp.size)+1))    ### 1 + log2(M) donde M es la muestra de los datos\n",
    "\n",
    "plt.figure(figsize=(8, 8))\n",
    "x = np.linspace(0,exp.max()+0.1,1000)\n",
    "plt.hist(exp,bins=k,density=True)\n",
    "plt.plot(x,expDist(3,x),label=\"Teorica\")\n",
    "plt.plot(x,expDist(lambda_mean,x),label=\"Generada\")\n",
    "plt.legend(loc=\"best\")\n",
    "plt.title(\"Comparación de distribución exponencial Exp()\")\n",
    "plt.show()\n",
    "print(\"Valor del estimador:\",lambda_mean)"
   ]
  },
  {
   "cell_type": "markdown",
   "metadata": {},
   "source": [
    "¿Qupe ocurre cuando la CDF no es trivial por lo que no puede despejarse facilmente? Por ejemplo el caso de la distribución normal.\n",
    "\n",
    "### Método de Box-Muller\n",
    "\n",
    "1. Se generan dos muestras $U_{1}$ y $U_{2}$ ambas distribuidas uniformemente en el intervalo [0,1]. Osea $U_{1}$ ~ Uniform(0,1) y $U_{2}$ ~ Uniform(0,1)\n",
    "2. Se calcula $R = \\sqrt{-2\\ln(U_{1})}\\cos(2\\pi U_{2})$ \n",
    "3. Se calcula $x = \\sigma R + \\mu$\n",
    "\n",
    "Donde R está distribuido por R ~ $N(0,1)$ mientras que X esta distribuido por X ~ $N(\\mu,\\sigma^{2})$\n",
    "\n",
    "### Ejercicio\n",
    "\n",
    "Genere $10^{6}$ muestras para una distribución N(5,1) y generar un gráfico similar al anterior con el histograma de los datos, la gráfica de la distribución teórica y generada. El gráfico generado tiene que tener título, nombre de los ejes y leyenda descriptiva, además se debe incluir el valor de los estimadores calculados.\n",
    "\n",
    "Correo: juan.sanchezp@sansano.usm.cl.\n",
    "Asunto: [TEL341] Ejercicio Estimadores - Nombre.Apellido\n",
    "\n",
    "Entregue el *código ipynb* realizado hasta el miércoles 06 a las 2 3.59.59 por correo. La 1ra persona en entregar el problema resuelto recibe 10pts, la 2da y 3ra persona reciben 5pts para la primera tarea. "
   ]
  },
  {
   "cell_type": "markdown",
   "metadata": {},
   "source": [
    "<figure>\n",
    "  <br><img title=\"Distribución Normal\" alt=Norm\" src=\"normal.png\" width=\"500\" height=\"600\"><br>\n",
    "  <center><figcaption>Gráfico para distribución normal N(0,1) Teórica vs Empirica </figcaption></center>\n",
    "</figure>"
   ]
  },
  {
   "cell_type": "code",
   "execution_count": null,
   "metadata": {},
   "outputs": [],
   "source": []
  }
 ],
 "metadata": {
  "kernelspec": {
   "display_name": "Python 3 (ipykernel)",
   "language": "python",
   "name": "python3"
  },
  "language_info": {
   "codemirror_mode": {
    "name": "ipython",
    "version": 3
   },
   "file_extension": ".py",
   "mimetype": "text/x-python",
   "name": "python",
   "nbconvert_exporter": "python",
   "pygments_lexer": "ipython3",
   "version": "3.8.10"
  },
  "latex_envs": {
   "LaTeX_envs_menu_present": true,
   "autoclose": false,
   "autocomplete": true,
   "bibliofile": "biblio.bib",
   "cite_by": "apalike",
   "current_citInitial": 1,
   "eqLabelWithNumbers": true,
   "eqNumInitial": 1,
   "hotkeys": {
    "equation": "Ctrl-E",
    "itemize": "Ctrl-I"
   },
   "labels_anchors": false,
   "latex_user_defs": false,
   "report_style_numbering": false,
   "user_envs_cfg": false
  }
 },
 "nbformat": 4,
 "nbformat_minor": 4
}
