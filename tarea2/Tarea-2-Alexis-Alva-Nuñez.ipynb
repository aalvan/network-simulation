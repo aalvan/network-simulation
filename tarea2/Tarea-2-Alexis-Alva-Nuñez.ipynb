{
 "cells": [
  {
   "cell_type": "markdown",
   "id": "24deea2f",
   "metadata": {},
   "source": [
    "# Tarea 2 - Simulación de Redes - TEL341\n",
    "## Alexis Alva - ROL: 201530013-5\n",
    "#### El objetivo de esta tarea es obtener la probabilidad de bloqueo según la capacidad de la red y la cantidad de saltos. Como condición esta probabilidad debe ser menor a 10e-3.\n",
    "#### Para la ejecución de esta tarea utilicé 10e6 como cantidad de llegadas"
   ]
  },
  {
   "cell_type": "code",
   "execution_count": null,
   "id": "35ced9ab",
   "metadata": {},
   "outputs": [],
   "source": [
    "import pandas as pd\n",
    "\n",
    "def Rutas():\n",
    "    data[]\n",
    "    dfRutas = pd.read_csv(\"./Rutas/Arpanet.rut\",header=None)\n",
    "    dfRutas= dfRutas[0].str.split('\\t', expand=True)\n",
    "    N = int(dfRutas[3][1]) # Número de nodos de la red\n",
    "    L = int(dfRutas[3][2]) # Número de enlaces unidireccionales\n",
    "    M = N*(N-1) # Numero de usuarios\n",
    "    N,L,M\n",
    "    dfRutas = dfRutas[dfRutas[0]!=dfRutas[1]][6:].reset_index(drop=True)\n",
    "    C = dfRutas.iloc[:,3:].apply(pd.value_counts).sum(axis=1).max()\n",
    "    dfRutas[\"RUTA\"] = dfRutas.iloc[:,3:].apply(lambda x: [i for i in x.dropna().astype(int)],axis=1) \n",
    "    \n"
   ]
  }
 ],
 "metadata": {
  "kernelspec": {
   "display_name": "Python 3 (ipykernel)",
   "language": "python",
   "name": "python3"
  },
  "language_info": {
   "codemirror_mode": {
    "name": "ipython",
    "version": 3
   },
   "file_extension": ".py",
   "mimetype": "text/x-python",
   "name": "python",
   "nbconvert_exporter": "python",
   "pygments_lexer": "ipython3",
   "version": "3.9.6"
  }
 },
 "nbformat": 4,
 "nbformat_minor": 5
}
