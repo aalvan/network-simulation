{
 "cells": [
  {
   "cell_type": "markdown",
   "metadata": {
    "id": "IOYNuER8bopC"
   },
   "source": [
    "## Actividad 4"
   ]
  },
  {
   "cell_type": "markdown",
   "metadata": {
    "id": "VOZnOtDXbopH"
   },
   "source": [
    "Grupo:\n",
    "\n",
    "* Karolain Cabrera\n",
    "* Alexis Alva\n",
    "* Gabriel  Fuentes\n",
    "* Catalina Zelaña\n",
    "* Phillipa Paredes\n",
    "* Javier Quiroga\n",
    "    "
   ]
  },
  {
   "cell_type": "markdown",
   "metadata": {
    "id": "UND8tIDMbopV"
   },
   "source": [
    "1. Investiguen sobre los métodos para generar variables aleatorias de distintas distribuciones\n",
    "probabilísticas. Elija entre la distribución Normal, Poisson, Weibull, Erlang, Pareto y Binomial.\n",
    "2. Averigüe en que problemas la distribución probabilística es utilizadas. Por ejemplo: en redes de\n",
    "computadores se utiliza la distribución exponencial para representar el tiempo entre solicitudes de\n",
    "conexión.\n",
    "3. Escriba un resumen de una plana que concisamente explique los 2 puntos anteriores.\n",
    "4. Implemente en Jupyter notebook el generado de la variable aleatoria elegida, evidenciando que la\n",
    "secuencia obtenida realmente representa la distribución probabilística elegida.\n",
    "5. Entregar a su queridísimo profesor al correo nicolas.jara@usm.cl"
   ]
  },
  {
   "cell_type": "markdown",
   "metadata": {
    "id": "fpkBDcWibopW"
   },
   "source": [
    "La distribución de Poisson es una distribución de probabilidad discreta que se aplica a las ocurrencias de algún evento durante un periodo determinado. Es decir, es una distribución de probabilidad discreta en la que solo es necesario conocer los eventos y cuál es su frecuencia media de ocurrencia para poder conocer la probabilidad de que ocurran.\n",
    "\n",
    "En la vida real se utiliza la distribución de Poisson para hacer cálculos de probabilidades donde se requiere contar el número de veces que se produce un suceso aleatorio durante un periodo determinado de tiempo (o también de distancia, área u otro parámetro). Es especialmente útil para calcular probabilidades muy pequeñas o sucesos que tienen pocas posibilidades de producirse.\n",
    "\n",
    "Un ejemplo de aplicacion es el contador de Geiger, este es un instrumento para medir la radiactividad de un objeto o zona. Se utiliza la distribución de Poisson para calcular el comportamiento estadístico de la radiación y así poder establecer su nivel.\n",
    "\n",
    "Los contadores de personas que habitualmente se utilizan en los comercios para saber el número de personas que entran en su establecimiento durante un periodo de tiempo (número de clientes en la última hora, por ejemplo).\n",
    "\n",
    "En el mundo de los mercados y la bolsa se utiliza la distribución de Poisson para calcular el riesgo de las operaciones en los tiempos de espera entre transacciones financieras. \n",
    "\n",
    "Esta distribucion puede utilizarse en el cálculo de las llamadas de teléfono que se reciben en un día en una central telefonica. Se puede aplicar tambien en establecer el número de bacterias que hay en un volumen de determinado de agua, establecer el riesgo de crédito en una operación de financiación, calcular la cantidad de estrellas en un determinado volumen espacio o el número de accidentes por año registrados por una compañía de seguros, el número de peticiones de servicio diarias de un servidor web.\n",
    "\n",
    "Las aplicaciones de esta distribución se usan en todas las áreas de la vida, siendo especialmente útiles en el sector empresarial para poder hacer predicciones sobre el riesgo de las operaciones.\n",
    "\n",
    "En la ciencia y en la medicina es habitual la aplicación de la distribución de Poisson para realizar cálculos de probabilidades en sucesos que son muy difíciles de predecir y que tienen una ocurrencia aleatoria."
   ]
  },
  {
   "cell_type": "code",
   "execution_count": 16,
   "metadata": {
    "id": "OWhjORwzbopZ",
    "scrolled": true
   },
   "outputs": [],
   "source": [
    "from numpy.lib.nanfunctions import nanargmin\n",
    "from random import uniform\n",
    "import math\n",
    "import numpy as np\n",
    "from scipy.special import factorial\n",
    "import matplotlib.pyplot as plt\n",
    "\n",
    "#Procedimiento para generar una variación aleatoria Poisson \n",
    "Rs = []\n",
    "n = 100\n",
    "for k in range(n):\n",
    "    Rs.append(uniform(0,1))\n",
    "\n",
    "lista= []    \n",
    "\n",
    "lamb = 20\n",
    "\n",
    "\n",
    "for _ in range(n):\n",
    "    n=0\n",
    "    P = 1\n",
    "    while P >= np.exp(-lamb): \n",
    "      P = uniform(0,1)*P \n",
    "      n+=1\n",
    "    lista.append(n) \n",
    "\n",
    "\n",
    "\n",
    "   \n"
   ]
  },
  {
   "cell_type": "code",
   "execution_count": 17,
   "metadata": {
    "colab": {
     "base_uri": "https://localhost:8080/"
    },
    "id": "Xa5zxtM0rnUI",
    "outputId": "038221c6-7495-4770-c15e-a13a4c50a62f"
   },
   "outputs": [
    {
     "name": "stdout",
     "output_type": "stream",
     "text": [
      "[22, 23, 16, 21, 20, 17, 26, 24, 24, 22, 25, 21, 20, 23, 20, 23, 18, 20, 25, 24, 17, 22, 16, 17, 21, 26, 17, 18, 25, 17, 12, 21, 23, 22, 24, 23, 21, 25, 20, 14, 25, 16, 20, 18, 19, 21, 25, 25, 23, 26, 17, 18, 13, 22, 22, 27, 18, 12, 19, 20, 28, 18, 19, 20, 19, 25, 28, 23, 24, 22, 13, 24, 23, 18, 20, 18, 21, 19, 18, 21, 20, 21, 30, 25, 13, 19, 24, 27, 21, 33, 23, 20, 22, 20, 21, 32, 23, 21, 30, 25]\n"
     ]
    }
   ],
   "source": [
    "print(lista)"
   ]
  },
  {
   "cell_type": "code",
   "execution_count": 18,
   "metadata": {
    "colab": {
     "base_uri": "https://localhost:8080/",
     "height": 296
    },
    "id": "339GNRtWbopc",
    "outputId": "0fb7d978-663a-4371-a49b-223e2a03947a"
   },
   "outputs": [
    {
     "data": {
      "image/png": "[encoded data removed]",
      "text/plain": [
       "<Figure size 432x288 with 1 Axes>"
      ]
     },
     "metadata": {
      "needs_background": "light"
     },
     "output_type": "display_data"
    },
    {
     "data": {
      "text/plain": [
       "<Figure size 720x720 with 0 Axes>"
      ]
     },
     "metadata": {},
     "output_type": "display_data"
    }
   ],
   "source": [
    "\n",
    "plt.plot(lista)\n",
    "plt.xlabel('X')\n",
    "plt.ylabel('P(x)')\n",
    "plt.figure(figsize=(10,10))\n",
    "plt.show()"
   ]
  },
  {
   "cell_type": "code",
   "execution_count": 19,
   "metadata": {
    "colab": {
     "base_uri": "https://localhost:8080/"
    },
    "id": "CZl62861bopf",
    "outputId": "30a71fb4-3808-4e3f-acb4-b3cb8302973e"
   },
   "outputs": [
    {
     "name": "stdout",
     "output_type": "stream",
     "text": [
      "[0.1, 0.2, 0.3, 0.4, 0.5, 0.6, 0.7, 0.8, 0.9, 1.0, 1.1, 1.2, 1.3, 1.4, 1.5, 1.6, 1.7, 1.8, 1.9, 2.0, 2.1, 2.2, 2.3, 2.4, 2.5, 2.6, 2.7, 2.8, 2.9, 3.0, 3.1, 3.2, 3.3, 3.4, 3.5, 3.6, 3.7, 3.8, 3.9, 4.0, 4.1, 4.2, 4.3, 4.4, 4.5, 4.6, 4.7, 4.8, 4.9, 5.0, 5.1, 5.2, 5.3, 5.4, 5.5, 5.6, 5.7, 5.8, 5.9, 6.0, 6.1, 6.2, 6.3, 6.4, 6.5, 6.6, 6.7, 6.8, 6.9, 7.0, 7.1, 7.2, 7.3, 7.4, 7.5, 7.6, 7.7, 7.8, 7.9, 8.0, 8.1, 8.2, 8.3, 8.4, 8.5, 8.6, 8.7, 8.8, 8.9, 9.0, 9.1, 9.2, 9.3, 9.4, 9.5, 9.6, 9.7, 9.8, 9.9, 10.0]\n"
     ]
    }
   ],
   "source": [
    "#100 numeros de 0.1 al 10 \n",
    "const=0\n",
    "secuencia=[]\n",
    "while(True):\n",
    "    if(len(secuencia)==100): break\n",
    "    const+=0.1      \n",
    "    secuencia.append(round(const,7))    \n",
    "print(secuencia)\n",
    "    "
   ]
  },
  {
   "cell_type": "code",
   "execution_count": 20,
   "metadata": {
    "id": "cVlVpO7pbopg"
   },
   "outputs": [],
   "source": [
    "#Función de masa de probabilidad de distribución Poisson\n",
    "probabilidades=[]\n",
    "for j in secuencia:\n",
    "    px=np.exp(-lamb)*np.power(lamb,j)/factorial(j)\n",
    "    probabilidades.append(round(px,7))"
   ]
  },
  {
   "cell_type": "code",
   "execution_count": 21,
   "metadata": {
    "colab": {
     "base_uri": "https://localhost:8080/",
     "height": 296
    },
    "id": "6z8LvGjMboph",
    "outputId": "1aac47f6-1e1f-4f91-a4dd-88cc8097444c",
    "scrolled": true
   },
   "outputs": [
    {
     "data": {
      "image/png": "[encoded data removed]",
      "text/plain": [
       "<Figure size 432x288 with 1 Axes>"
      ]
     },
     "metadata": {
      "needs_background": "light"
     },
     "output_type": "display_data"
    },
    {
     "data": {
      "text/plain": [
       "<Figure size 720x720 with 0 Axes>"
      ]
     },
     "metadata": {},
     "output_type": "display_data"
    }
   ],
   "source": [
    "#Grafica\n",
    "import matplotlib.pyplot as plt\n",
    "plt.plot(secuencia, probabilidades)\n",
    "plt.xlabel('X')\n",
    "plt.ylabel('P(x)')\n",
    "plt.figure(figsize=(10,10))\n",
    "plt.show()"
   ]
  },
  {
   "cell_type": "code",
   "execution_count": 22,
   "metadata": {
    "colab": {
     "base_uri": "https://localhost:8080/",
     "height": 334
    },
    "id": "_VF25ZQpsQRA",
    "outputId": "02caceb4-b588-4f1f-dfa8-64da1d8c934a"
   },
   "outputs": [
    {
     "data": {
      "text/plain": [
       "(array([0.02857143, 0.01428571, 0.07142857, 0.08571429, 0.0952381 ,\n",
       "        0.08095238, 0.06190476, 0.01904762, 0.00952381, 0.00952381]),\n",
       " array([12. , 14.1, 16.2, 18.3, 20.4, 22.5, 24.6, 26.7, 28.8, 30.9, 33. ]),\n",
       " <BarContainer object of 10 artists>)"
      ]
     },
     "execution_count": 22,
     "metadata": {},
     "output_type": "execute_result"
    },
    {
     "data": {
      "image/png": "[encoded data removed]",
      "text/plain": [
       "<Figure size 432x288 with 1 Axes>"
      ]
     },
     "metadata": {
      "needs_background": "light"
     },
     "output_type": "display_data"
    }
   ],
   "source": [
    "plt.hist(lista,density=1, bins=10)"
   ]
  },
  {
   "cell_type": "markdown",
   "metadata": {
    "id": "zz49t3Bvbopk"
   },
   "source": [
    "Al comparar los dos graficos podemos observan una similitud en su curva, por esto podemos concluir que es una distribucion poisson. (Si es que lambda tuviera un mayor valor la curva tomaria forma de una campana)"
   ]
  }
 ],
 "metadata": {
  "colab": {
   "name": "actividad_4 (1).ipynb",
   "provenance": []
  },
  "interpreter": {
   "hash": "916dbcbb3f70747c44a77c7bcd40155683ae19c65e1c03b4aa3499c5328201f1"
  },
  "kernelspec": {
   "display_name": "dm-env",
   "language": "python",
   "name": "dm-env"
  },
  "language_info": {
   "codemirror_mode": {
    "name": "ipython",
    "version": 3
   },
   "file_extension": ".py",
   "mimetype": "text/x-python",
   "name": "python",
   "nbconvert_exporter": "python",
   "pygments_lexer": "ipython3",
   "version": "3.9.6"
  }
 },
 "nbformat": 4,
 "nbformat_minor": 1
}
