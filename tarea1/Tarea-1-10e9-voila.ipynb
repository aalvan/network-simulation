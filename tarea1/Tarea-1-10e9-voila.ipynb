{
 "cells": [
  {
   "cell_type": "markdown",
   "id": "2146c9ee",
   "metadata": {},
   "source": [
    "## Nombre: Alexis Alva Nuñez\n",
    "## ROL: 201530013-5"
   ]
  },
  {
   "cell_type": "markdown",
   "id": "bfbac7af",
   "metadata": {},
   "source": [
    "<figure>\n",
    "  <br><img title=\"canales\" alt=\"t\" src=\"canales.png\" ><br>\n",
    "  <center><figcaption>Fig.1 Asignación de Canales </figcaption></center>\n",
    "</figure>\n",
    "\n",
    "Se busca simular el comportamiento de un sistema con una capacidad **C** de canales que se encuentra constantemente recibiendo **M** usuarios que quieren utilizar el enlace. Debido a que el sistema tiene una capacidad limitada comparada al número de usuarios que quieren ocuparlo ($C < M$) existe la probabilidad que en algún punto un usario se intente conectar y todos los canales se encuentren ocupados, ocurriendo un **bloqueo**.\n",
    "\n",
    "La idea de esta primera tarea es buscar dicha **probabilidad de bloqueo** de que un usuario no pueda conectarse por congestión al enlace. \n",
    "\n",
    "\n",
    "<figure>\n",
    "  <br><img title=\"criterio\" alt=\"t\" src=\"criterio.png\" ><br>\n",
    "  <center><figcaption>Fig.2 Diagrama de flujo de la simulación </figcaption></center>\n",
    "</figure>"
   ]
  },
  {
   "cell_type": "markdown",
   "id": "9c2ce7c7",
   "metadata": {},
   "source": [
    "## Generación de tiempos aleatorios "
   ]
  },
  {
   "cell_type": "markdown",
   "id": "e0d401c9",
   "metadata": {},
   "source": [
    "Para cada evento dentro de la FEL tenemos 2 variables almacenadas dentro, el *id* del evento y su *tiempo* de ocurrencia asociado en la simulación. El tiempo estará dado por el cálculo del tiempo actual en el simulador más un tiempo asociado por la distribución correspondiente, pero ¿Cómo sabemos que distribución aplicar?\n",
    "\n",
    "Para esto tenemos que recordar las distribuciones $Exp(\\lambda)$ y $Exp(\\mu)$.\n",
    "* $Exp(\\lambda)$ con $\\lambda$ tasa de llegada nos generará los tiempos aleatorios para usuarios que entran al enlace.\n",
    "\n",
    "* $Exp(\\mu)$ con $\\mu$ tasa de salida que nos generará los tiempo aleatorios para usuarios que salen del enlace."
   ]
  },
  {
   "cell_type": "code",
   "execution_count": 13,
   "id": "33009bc2",
   "metadata": {},
   "outputs": [],
   "source": [
    "import numpy as np\n",
    "# Generación de tiempos aleatorios Exp(lambda)\n",
    "def randExp(lamb,size=1):    \n",
    "    pt = np.random.rand(size)\n",
    "    return (-1/lamb)*np.log(pt)\n",
    "\n",
    "# Distribución exponencial Exp(lambda)\n",
    "def expDist(lamb,x):\n",
    "    return lamb*np.exp(-lamb*x)"
   ]
  },
  {
   "cell_type": "markdown",
   "id": "c615b552",
   "metadata": {},
   "source": [
    "## Inicialización de la simulación"
   ]
  },
  {
   "cell_type": "markdown",
   "id": "5489a966",
   "metadata": {},
   "source": [
    "En la función ```initilization(m, c, Lamb, Mu)```, se inicializan todos los parámetros necesarios para que la simulación pueda ser ejecutada, tales como:"
   ]
  },
  {
   "cell_type": "markdown",
   "id": "988426ff",
   "metadata": {},
   "source": [
    "* M - Cantidad de usuarios\n",
    "* C - Cantidad de canales \n",
    "* $\\lambda$ - Tasa de llegada de un usuario\n",
    "* $\\mu$ - Tasa de salida de un usuario \n",
    "\n",
    "Se deben elegir valores para dichas variables acorde a las siguientes condiciones para que ejecute correctamente su simulador: \n",
    "\n",
    "* $C < M$\n",
    "* $ 0.1 \\leqslant \\frac{\\lambda}{\\mu} \\leqslant 0.4 $ "
   ]
  },
  {
   "cell_type": "markdown",
   "id": "a4b54785",
   "metadata": {},
   "source": [
    "* Los eventos de llegada comprenderán el rango de *id = {0, ... , M-1}*\n",
    "\n",
    "* Los eventos de salida comprenderán el rango de *id = {M, ... , 2M-1}*"
   ]
  },
  {
   "cell_type": "code",
   "execution_count": 14,
   "id": "9bd3d936",
   "metadata": {},
   "outputs": [],
   "source": [
    "from operator import itemgetter\n",
    "import matplotlib.pyplot as plt\n",
    "\n",
    "def initilization(m, c, Lamb, Mu):\n",
    "    global M,C,lamb,mu # hacemos las variables globales para poder usarlas en otras funciones\n",
    "    M = m\n",
    "    C = c\n",
    "    lamb = Lamb\n",
    "    mu = Mu\n",
    "    if ((lamb/mu < 0.1)or(lamb/mu > 0.4) or (C > M)): # revisamos que cumpla la condicion requerida en la tarea\n",
    "        print(\"Ingrese unos valores validos para lambda\")\n",
    "        return\n",
    "    else:\n",
    "        global U, B ,arrivals\n",
    "        B = arrivals = U = 0\n",
    "        global FEL\n",
    "        FEL = []\n",
    "        for i in range(M): # recorremos la FEL y la vamos rellenando los usuarios que van a llegar\n",
    "            tiempo = randExp(lamb) \n",
    "            FEL.append((i,tiempo))\n",
    "        FEL.sort(key=itemgetter(1))\n",
    "        return FEL"
   ]
  },
  {
   "cell_type": "markdown",
   "id": "5fe268e2",
   "metadata": {},
   "source": [
    "## Función de llegada"
   ]
  },
  {
   "cell_type": "markdown",
   "id": "ade26468",
   "metadata": {},
   "source": [
    "Esta función de llegada nos permitirá, actulizar los parametros de nuestra simulación, ya sea aumentar las llegadas en cada instante de tiempo, aumentar los bloqueos, además de que nos permitirá calendarizar nuevas llegadas."
   ]
  },
  {
   "cell_type": "code",
   "execution_count": 15,
   "id": "4b7f9922",
   "metadata": {},
   "outputs": [],
   "source": [
    "def arrive(p_bloqueo):\n",
    "    global arrivals, U, B\n",
    "    arrivals += 1 # aumentamos las llegadas\n",
    "    if U == C:\n",
    "        B += 1 # aumentamos los bloqueos ya que la capacidad del sistema está a tope\n",
    "        if (arrivals%sample==0): # veo si se cumple la condición para calcular la probabilidad de bloqueos en (bloqueos_actuales/arrivos_actuales) \n",
    "            list_arrives.append(arrivals) \n",
    "            p_bloqueo = p_bloqueo + (B/arrivals) # vamos acumulando la probabilidad de bloqueo\n",
    "            #print(\"p_bloqueo:\",p_bloqueo)\n",
    "            #print(\"B:\", B)\n",
    "            #print(\"arrivals:\", arrivals)\n",
    "            list_bloqueos.append(p_bloqueo) # agregamos la probabilidad de bloqueo en una lista, para luego graficarla\n",
    "        # Evento Arribo por bloqueo\n",
    "        tiempoArribo = eventoActual[1] + randExp(lamb) # calculamos el nuevo tiempo de arribo ya que se bloqueo anteriormente\n",
    "        FEL.append((eventoActual[0], tiempoArribo)) # agregamos la nueva llegada a la FEL\n",
    "        FEL.sort(key=itemgetter(1)) # ordenamos la FEL\n",
    "    else:\n",
    "        U +=1  # aumentamos la cantidad de usuarios en el sistema\n",
    "        # Evento Salida por atención\n",
    "        tiempoSalida = eventoActual[1] + randExp(mu) # calculamos el tiempo de salida del usuario\n",
    "        FEL.append((eventoActual[0]+M, tiempoSalida)) # agregamos el usuario a la FEL\n",
    "        FEL.sort(key=itemgetter(1)) # ordenamos la FEL\n",
    "    "
   ]
  },
  {
   "cell_type": "markdown",
   "id": "28133683",
   "metadata": {},
   "source": [
    "## Función de salida "
   ]
  },
  {
   "cell_type": "markdown",
   "id": "f65e8660",
   "metadata": {},
   "source": [
    "Esta función nos permite actulizar la cantidad de usuarios en el sistema luego de que cumplen su tiempo en el, \n",
    "además de que les calculamos su nuevo tiempo de llegada."
   ]
  },
  {
   "cell_type": "code",
   "execution_count": 16,
   "id": "8f2ed5e1",
   "metadata": {},
   "outputs": [],
   "source": [
    "def exit():\n",
    "    global U\n",
    "    U -= 1 #disminuimos la cantidad de usuarios en el sistema ya que salió del sistema\n",
    "    # Evento Arribo por salida\n",
    "    tiempoArribo = eventoActual[1] + randExp(lamb) # calculamos el nuevo tiempo de arribo\n",
    "    FEL.append((eventoActual[0]-M, tiempoArribo)) # agregamos la nueva llegada a la FEL\n",
    "    FEL.sort(key=itemgetter(1)) # ordenamos la FEL\n",
    "    "
   ]
  },
  {
   "cell_type": "markdown",
   "id": "5f5a702c",
   "metadata": {},
   "source": [
    "## Llegadas = 10e2"
   ]
  },
  {
   "cell_type": "code",
   "execution_count": 17,
   "id": "abaa61ee",
   "metadata": {},
   "outputs": [
    {
     "name": "stdout",
     "output_type": "stream",
     "text": [
      "Probabilidad de bloqueo:0.69\n"
     ]
    },
    {
     "data": {
      "image/png": "[encoded data removed]",
      "text/plain": [
       "<Figure size 432x288 with 1 Axes>"
      ]
     },
     "metadata": {
      "needs_background": "light"
     },
     "output_type": "display_data"
    }
   ],
   "source": [
    "initilization(50,5,3,10) # (M, C, lambda, mu)\n",
    "list_bloqueos = []\n",
    "list_arrives = []\n",
    "P_bloqueo = 0\n",
    "P_bloqueo_total = 0\n",
    "LLEGADAS_1 = 10**2\n",
    "sample = LLEGADAS_1/100 # condición para tomar la muestra de la probablidad de bloqueo\n",
    "while (arrivals < LLEGADAS_1):\n",
    "    eventoActual = FEL.pop(0) # obtenemos el usuario al principio de la FEL\n",
    "    #print(eventoActual)\n",
    "    if eventoActual[0] < M: # comparamos el ID con la cantidad M para saber si es un arrivo o una salida\n",
    "        # Evento de llegada\n",
    "        arrive(P_bloqueo) # Usamos la función de arrivo, descrita previamente\n",
    "        idEvento = eventoActual[0]\n",
    "        #print(idEvento)\n",
    "    else:\n",
    "        # Evento de salida\n",
    "        exit() # usamos la función de salida descrita previamente\n",
    "        idEvento = eventoActual[0] - M\n",
    "        #print(idEvento)\n",
    "    #print(counter)\n",
    "P_bloqueo_total_1 = B/LLEGADAS_1 # calculamos el bloqueo total\n",
    "print(\"Probabilidad de bloqueo:{}\".format(P_bloqueo_total_1))\n",
    "#graficamos la probabilidad de bloqueo vs las llegadas\n",
    "plt.plot(list_arrives, list_bloqueos)\n",
    "plt.ylabel('Probabilidad de bloqueo')\n",
    "plt.xlabel('Número de llegadas')\n",
    "plt.title(\"Probabilidad de bloqueo vs Llegadas\")\n",
    "plt.show()"
   ]
  },
  {
   "cell_type": "markdown",
   "id": "7b30b1bd",
   "metadata": {},
   "source": [
    "## Llegadas = 10e3"
   ]
  },
  {
   "cell_type": "code",
   "execution_count": 18,
   "id": "6939bc32",
   "metadata": {},
   "outputs": [
    {
     "name": "stdout",
     "output_type": "stream",
     "text": [
      "Probabilidad de bloqueo:0.663\n"
     ]
    },
    {
     "data": {
      "image/png": "[encoded data removed]",
      "text/plain": [
       "<Figure size 432x288 with 1 Axes>"
      ]
     },
     "metadata": {
      "needs_background": "light"
     },
     "output_type": "display_data"
    }
   ],
   "source": [
    "initilization(50,5,3,10) # (M, C, lambda, mu)\n",
    "list_bloqueos = []\n",
    "list_arrives = []\n",
    "P_bloqueo = 0\n",
    "P_bloqueo_total = 0\n",
    "LLEGADAS_2 = 10**3\n",
    "sample = LLEGADAS_2/100\n",
    "while (arrivals < LLEGADAS_2):\n",
    "    eventoActual = FEL.pop(0)\n",
    "    #print(eventoActual)\n",
    "    if eventoActual[0] < M:\n",
    "        # Evento de llegada\n",
    "        arrive(P_bloqueo)\n",
    "        idEvento = eventoActual[0]\n",
    "        #print(idEvento)\n",
    "    else:\n",
    "        # Evento de salida\n",
    "        exit()\n",
    "        idEvento = eventoActual[0] - M\n",
    "        #print(idEvento)\n",
    "    #print(counter)\n",
    "P_bloqueo_total_2 = B/LLEGADAS_2\n",
    "print(\"Probabilidad de bloqueo:{}\".format(P_bloqueo_total_2))\n",
    "plt.plot(list_arrives, list_bloqueos)\n",
    "plt.ylabel('Probabilidad de bloqueo')\n",
    "plt.xlabel('Número de llegadas')\n",
    "plt.title(\"Probabilidad de bloqueo vs Llegadas\")\n",
    "plt.show()"
   ]
  },
  {
   "cell_type": "markdown",
   "id": "fc564648",
   "metadata": {},
   "source": [
    "## Llegadas = 10e4"
   ]
  },
  {
   "cell_type": "code",
   "execution_count": 19,
   "id": "4165dce6",
   "metadata": {},
   "outputs": [
    {
     "name": "stdout",
     "output_type": "stream",
     "text": [
      "Probabilidad de bloqueo:0.668\n"
     ]
    },
    {
     "data": {
      "image/png": "[encoded data removed]",
      "text/plain": [
       "<Figure size 432x288 with 1 Axes>"
      ]
     },
     "metadata": {
      "needs_background": "light"
     },
     "output_type": "display_data"
    }
   ],
   "source": [
    "initilization(50,5,3,10) # (M, C, lambda, mu)\n",
    "list_bloqueos = []\n",
    "list_arrives = []\n",
    "P_bloqueo = 0\n",
    "P_bloqueo_total = 0\n",
    "LLEGADAS_3 = 10**4\n",
    "sample = LLEGADAS_3/100\n",
    "while (arrivals < LLEGADAS_3):\n",
    "    eventoActual = FEL.pop(0)\n",
    "    #print(eventoActual)\n",
    "    if eventoActual[0] < M:\n",
    "        # Evento de llegada\n",
    "        arrive(P_bloqueo)\n",
    "        idEvento = eventoActual[0]\n",
    "        #print(idEvento)\n",
    "    else:\n",
    "        # Evento de salida\n",
    "        exit()\n",
    "        idEvento = eventoActual[0] - M\n",
    "        #print(idEvento)\n",
    "    #print(counter)\n",
    "P_bloqueo_total_3 = B/LLEGADAS_3\n",
    "print(\"Probabilidad de bloqueo:{}\".format(P_bloqueo_total_3))\n",
    "plt.plot(list_arrives, list_bloqueos)\n",
    "plt.ylabel('Probabilidad de bloqueo')\n",
    "plt.xlabel('Número de llegadas')\n",
    "plt.title(\"Probabilidad de bloqueo vs Llegadas\")\n",
    "plt.show()"
   ]
  },
  {
   "cell_type": "markdown",
   "id": "d993e41a",
   "metadata": {},
   "source": [
    "## Llegadas = 10e5"
   ]
  },
  {
   "cell_type": "code",
   "execution_count": 20,
   "id": "bb8063c4",
   "metadata": {},
   "outputs": [
    {
     "name": "stdout",
     "output_type": "stream",
     "text": [
      "Probabilidad de bloqueo:0.66408\n"
     ]
    },
    {
     "data": {
      "image/png": "[encoded data removed]",
      "text/plain": [
       "<Figure size 432x288 with 1 Axes>"
      ]
     },
     "metadata": {
      "needs_background": "light"
     },
     "output_type": "display_data"
    }
   ],
   "source": [
    "initilization(50,5,3,10) # (M, C, lambda, mu)\n",
    "list_bloqueos = []\n",
    "list_arrives = []\n",
    "P_bloqueo = 0\n",
    "P_bloqueo_total = 0\n",
    "LLEGADAS_4 = 10**5\n",
    "sample = LLEGADAS_4/100\n",
    "while (arrivals < LLEGADAS_4):\n",
    "    eventoActual = FEL.pop(0)\n",
    "    #print(eventoActual)\n",
    "    if eventoActual[0] < M:\n",
    "        # Evento de llegada\n",
    "        arrive(P_bloqueo)\n",
    "        idEvento = eventoActual[0]\n",
    "        #print(idEvento)\n",
    "    else:\n",
    "        # Evento de salida\n",
    "        exit()\n",
    "        idEvento = eventoActual[0] - M\n",
    "        #print(idEvento)\n",
    "    #print(counter)\n",
    "P_bloqueo_total_4 = B/LLEGADAS_4\n",
    "print(\"Probabilidad de bloqueo:{}\".format(P_bloqueo_total_4))\n",
    "plt.plot(list_arrives, list_bloqueos)\n",
    "plt.ylabel('Probabilidad de bloqueo')\n",
    "plt.xlabel('Número de llegadas')\n",
    "plt.title(\"Probabilidad de bloqueo vs Llegadas\")\n",
    "plt.show()"
   ]
  },
  {
   "cell_type": "markdown",
   "id": "c9d105f7",
   "metadata": {},
   "source": [
    "## Llegadas = 10e6"
   ]
  },
  {
   "cell_type": "code",
   "execution_count": 21,
   "id": "2c0f63bc",
   "metadata": {},
   "outputs": [
    {
     "name": "stdout",
     "output_type": "stream",
     "text": [
      "Probabilidad de bloqueo:0.665052\n"
     ]
    },
    {
     "data": {
      "image/png": "[encoded data removed]",
      "text/plain": [
       "<Figure size 432x288 with 1 Axes>"
      ]
     },
     "metadata": {
      "needs_background": "light"
     },
     "output_type": "display_data"
    }
   ],
   "source": [
    "initilization(50,5,3,10) # (M, C, lambda, mu)\n",
    "list_bloqueos = []\n",
    "list_arrives = []\n",
    "P_bloqueo = 0\n",
    "P_bloqueo_total = 0\n",
    "LLEGADAS_5= 10**6\n",
    "sample = LLEGADAS_5/100\n",
    "while (arrivals < LLEGADAS_5):\n",
    "    eventoActual = FEL.pop(0)\n",
    "    #print(eventoActual)\n",
    "    if eventoActual[0] < M:\n",
    "        # Evento de llegada\n",
    "        arrive(P_bloqueo)\n",
    "        idEvento = eventoActual[0]\n",
    "        #print(idEvento)\n",
    "    else:\n",
    "        # Evento de salida\n",
    "        exit()\n",
    "        idEvento = eventoActual[0] - M\n",
    "        #print(idEvento)\n",
    "    #print(counter)\n",
    "P_bloqueo_total_5 = B/LLEGADAS_5\n",
    "print(\"Probabilidad de bloqueo:{}\".format(P_bloqueo_total_5))\n",
    "plt.plot(list_arrives, list_bloqueos)\n",
    "plt.ylabel('Probabilidad de bloqueo')\n",
    "plt.xlabel('Número de llegadas')\n",
    "plt.title(\"Probabilidad de bloqueo vs Llegadas\")\n",
    "plt.show()"
   ]
  },
  {
   "cell_type": "markdown",
   "id": "0fdc163a",
   "metadata": {},
   "source": [
    "## Llegadas = 10e7"
   ]
  },
  {
   "cell_type": "code",
   "execution_count": 23,
   "id": "51c0770b",
   "metadata": {},
   "outputs": [
    {
     "ename": "KeyboardInterrupt",
     "evalue": "",
     "output_type": "error",
     "traceback": [
      "\u001b[0;31m---------------------------------------------------------------------------\u001b[0m",
      "\u001b[0;31mKeyboardInterrupt\u001b[0m                         Traceback (most recent call last)",
      "Input \u001b[0;32mIn [23]\u001b[0m, in \u001b[0;36m<cell line: 8>\u001b[0;34m()\u001b[0m\n\u001b[1;32m     10\u001b[0m \u001b[38;5;66;03m#print(eventoActual)\u001b[39;00m\n\u001b[1;32m     11\u001b[0m \u001b[38;5;28;01mif\u001b[39;00m eventoActual[\u001b[38;5;241m0\u001b[39m] \u001b[38;5;241m<\u001b[39m M:\n\u001b[1;32m     12\u001b[0m     \u001b[38;5;66;03m# Evento de llegada\u001b[39;00m\n\u001b[0;32m---> 13\u001b[0m     \u001b[43marrive\u001b[49m\u001b[43m(\u001b[49m\u001b[43mP_bloqueo\u001b[49m\u001b[43m)\u001b[49m\n\u001b[1;32m     14\u001b[0m     idEvento \u001b[38;5;241m=\u001b[39m eventoActual[\u001b[38;5;241m0\u001b[39m]\n\u001b[1;32m     15\u001b[0m     \u001b[38;5;66;03m#print(idEvento)\u001b[39;00m\n\u001b[1;32m     16\u001b[0m \u001b[38;5;28;01melse\u001b[39;00m:\n\u001b[1;32m     17\u001b[0m     \u001b[38;5;66;03m# Evento de salida\u001b[39;00m\n",
      "Input \u001b[0;32mIn [15]\u001b[0m, in \u001b[0;36marrive\u001b[0;34m(p_bloqueo)\u001b[0m\n\u001b[1;32m     14\u001b[0m     tiempoArribo \u001b[38;5;241m=\u001b[39m eventoActual[\u001b[38;5;241m1\u001b[39m] \u001b[38;5;241m+\u001b[39m randExp(lamb) \u001b[38;5;66;03m# calculamos el nuevo tiempo de arribo ya que se bloqueo anteriormente\u001b[39;00m\n\u001b[1;32m     15\u001b[0m     FEL\u001b[38;5;241m.\u001b[39mappend((eventoActual[\u001b[38;5;241m0\u001b[39m], tiempoArribo)) \u001b[38;5;66;03m# agregamos la nueva llegada a la FEL\u001b[39;00m\n\u001b[0;32m---> 16\u001b[0m     \u001b[43mFEL\u001b[49m\u001b[38;5;241;43m.\u001b[39;49m\u001b[43msort\u001b[49m\u001b[43m(\u001b[49m\u001b[43mkey\u001b[49m\u001b[38;5;241;43m=\u001b[39;49m\u001b[43mitemgetter\u001b[49m\u001b[43m(\u001b[49m\u001b[38;5;241;43m1\u001b[39;49m\u001b[43m)\u001b[49m\u001b[43m)\u001b[49m \u001b[38;5;66;03m# ordenamos la FEL\u001b[39;00m\n\u001b[1;32m     17\u001b[0m \u001b[38;5;28;01melse\u001b[39;00m:\n\u001b[1;32m     18\u001b[0m     U \u001b[38;5;241m+\u001b[39m\u001b[38;5;241m=\u001b[39m\u001b[38;5;241m1\u001b[39m  \u001b[38;5;66;03m# aumentamos la cantidad de usuarios en el sistema\u001b[39;00m\n",
      "\u001b[0;31mKeyboardInterrupt\u001b[0m: "
     ]
    }
   ],
   "source": [
    "initilization(50,5,3,10) # (M, C, lambda, mu)\n",
    "list_bloqueos = []\n",
    "list_arrives = []\n",
    "P_bloqueo = 0\n",
    "P_bloqueo_total = 0\n",
    "LLEGADAS_6 = 10**7\n",
    "sample = LLEGADAS_6/100\n",
    "while (arrivals < LLEGADAS_6):\n",
    "    eventoActual = FEL.pop(0)\n",
    "    #print(eventoActual)\n",
    "    if eventoActual[0] < M:\n",
    "        # Evento de llegada\n",
    "        arrive(P_bloqueo)\n",
    "        idEvento = eventoActual[0]\n",
    "        #print(idEvento)\n",
    "    else:\n",
    "        # Evento de salida\n",
    "        exit()\n",
    "        idEvento = eventoActual[0] - M\n",
    "        #print(idEvento)\n",
    "    #print(counter)\n",
    "P_bloqueo_total_6 = B/LLEGADAS_6\n",
    "print(\"Probabilidad de bloqueo:{}\".format(P_bloqueo_total_6))\n",
    "plt.plot(list_arrives, list_bloqueos)\n",
    "plt.ylabel('Probabilidad de bloqueo')\n",
    "plt.xlabel('Número de llegadas')\n",
    "plt.title(\"Probabilidad de bloqueo vs Llegadas\")\n",
    "plt.show()"
   ]
  },
  {
   "cell_type": "markdown",
   "id": "84bf055b",
   "metadata": {},
   "source": [
    "## Llegadas = 10e8"
   ]
  },
  {
   "cell_type": "code",
   "execution_count": null,
   "id": "b79c0604",
   "metadata": {},
   "outputs": [],
   "source": [
    "initilization(50,5,3,10) # (M, C, lambda, mu)\n",
    "list_bloqueos = []\n",
    "list_arrives = []\n",
    "P_bloqueo = 0\n",
    "P_bloqueo_total = 0\n",
    "LLEGADAS_7 = 10**8\n",
    "sample = LLEGADAS_7/100\n",
    "while (arrivals < LLEGADAS_7):\n",
    "    eventoActual = FEL.pop(0)\n",
    "    #print(eventoActual)\n",
    "    if eventoActual[0] < M:\n",
    "        # Evento de llegada\n",
    "        arrive(P_bloqueo)\n",
    "        idEvento = eventoActual[0]\n",
    "        #print(idEvento)\n",
    "    else:\n",
    "        # Evento de salida\n",
    "        exit()\n",
    "        idEvento = eventoActual[0] - M\n",
    "        #print(idEvento)\n",
    "    #print(counter)\n",
    "P_bloqueo_total_7 = B/LLEGADAS_7\n",
    "print(\"Probabilidad de bloqueo:{}\".format(P_bloqueo_total_7))\n",
    "plt.plot(list_arrives, list_bloqueos)\n",
    "plt.ylabel('Probabilidad de bloqueo')\n",
    "plt.xlabel('Número de llegadas')\n",
    "plt.title(\"Probabilidad de bloqueo vs Llegadas\")\n",
    "plt.show()"
   ]
  },
  {
   "cell_type": "markdown",
   "id": "fbcb6ce4",
   "metadata": {},
   "source": [
    "# Grafico final"
   ]
  },
  {
   "cell_type": "markdown",
   "id": "fe885f53",
   "metadata": {},
   "source": [
    "En este grafico mostramos, la probabilidad de bloqueo para la cantidad de llegadas calculadas anteriormente"
   ]
  },
  {
   "cell_type": "code",
   "execution_count": null,
   "id": "ba8aeaf3",
   "metadata": {},
   "outputs": [],
   "source": [
    "list_blocked_prob = [P_bloqueo_total_1, P_bloqueo_total_2, P_bloqueo_total_3, P_bloqueo_total_4, P_bloqueo_total_5,\n",
    "                        P_bloqueo_total_6, P_bloqueo_total_7]\n",
    "list_blocked_arrivals = [LLEGADAS_1, LLEGADAS_2, LLEGADAS_3, LLEGADAS_4, LLEGADAS_5, LLEGADAS_6, LLEGADAS_7]\n",
    "plt.plot(list_blocked_arrivals, list_blocked_prob)\n",
    "plt.ylabel('Probabilidad de bloqueo')\n",
    "plt.xlabel('Número de llegadas')\n",
    "plt.title(\"Probabilidad de bloqueo vs Llegadas Finales\")\n",
    "plt.show()"
   ]
  }
 ],
 "metadata": {
  "kernelspec": {
   "display_name": "dm-env",
   "language": "python",
   "name": "dm-env"
  },
  "language_info": {
   "codemirror_mode": {
    "name": "ipython",
    "version": 3
   },
   "file_extension": ".py",
   "mimetype": "text/x-python",
   "name": "python",
   "nbconvert_exporter": "python",
   "pygments_lexer": "ipython3",
   "version": "3.9.6"
  }
 },
 "nbformat": 4,
 "nbformat_minor": 5
}
