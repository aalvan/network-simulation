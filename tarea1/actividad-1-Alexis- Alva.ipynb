{
 "cells": [
  {
   "cell_type": "code",
   "execution_count": 2,
   "id": "cdc6bfb2",
   "metadata": {},
   "outputs": [
    {
     "name": "stdout",
     "output_type": "stream",
     "text": [
      "3.141592653589793\n"
     ]
    }
   ],
   "source": [
    "import math\n",
    "import random\n",
    "import time\n",
    "global decimal_list\n",
    "pi = math.pi\n",
    "print(math.pi)"
   ]
  },
  {
   "cell_type": "code",
   "execution_count": 5,
   "id": "d4d28eaf",
   "metadata": {},
   "outputs": [],
   "source": [
    "def distancia(x,y): \n",
    "    return(math.sqrt(x**2 + y**2))\n",
    "\n",
    "def lanzamiento():\n",
    "    x=random.random()\n",
    "    y=random.random()\n",
    "    return(distancia(x,y)<=1)\n",
    "\n",
    "def decimales(num, init_time, num_lanzamientos): # le entregaré un número y me retornará el número de decimales iguales a pi\n",
    "    decimals = list(str(num).split('.')[1]) # arreglo de decimales del número entregado\n",
    "    num_decimals = len(decimals) # cantidad de decimales del numero entregado\n",
    "    pi_decimals = list(str(pi).split('.')[1]) # arreglo de los 100 decimales de pi\n",
    "    #print(\"decimales de pi: \",pi_decimals)\n",
    "    #print(\"num_pi_decimals: \", len(pi_decimals))\n",
    "    count = 0\n",
    "    count_decimals = 0\n",
    "    aux_count_decimals = 0\n",
    "    while count < num_decimals:\n",
    "        #print(\"count:\", count)\n",
    "        #print(\"num_decimals: \", num_decimals)\n",
    "        if decimals[count] == pi_decimals[count]:\n",
    "            count_decimals += 1\n",
    "            if (not(count_decimals in decimal_list)):\n",
    "                decimal_list.append(count_decimals)\n",
    "                print(\"Decimales encontrados:{}, tiempo requerido: {} [s], lanzamientos: {} \".format(len(decimal_list), time.time() - init_time, num_lanzamientos))\n",
    "        else:\n",
    "            count = num_decimals\n",
    "        count += 1\n",
    "    return count_decimals"
   ]
  },
  {
   "cell_type": "code",
   "execution_count": 8,
   "id": "dd119334",
   "metadata": {},
   "outputs": [
    {
     "name": "stdout",
     "output_type": "stream",
     "text": [
      "Ingrese el número de decimales que requiere: 8\n",
      "Decimales encontrados:1, tiempo requerido: 0.0003807544708251953 [s], lanzamientos: 67 \n",
      "Decimales encontrados:2, tiempo requerido: 0.0005900859832763672 [s], lanzamientos: 70 \n",
      "Decimales encontrados:3, tiempo requerido: 0.0024178028106689453 [s], lanzamientos: 340 \n",
      "Decimales encontrados:4, tiempo requerido: 0.037077903747558594 [s], lanzamientos: 5848 \n",
      "Decimales encontrados:5, tiempo requerido: 0.07416105270385742 [s], lanzamientos: 12451 \n",
      "Decimales encontrados:6, tiempo requerido: 0.15453577041625977 [s], lanzamientos: 28476 \n",
      "Decimales encontrados:7, tiempo requerido: 0.15796303749084473 [s], lanzamientos: 29147 \n",
      "Decimales encontrados:8, tiempo requerido: 1.8705928325653076 [s], lanzamientos: 369433 \n",
      "tiempo total: 1.8707399368286133 [s] \n",
      "probabilidad: 3.141592656855235 \n",
      "lanzamientos: 369433 \n"
     ]
    }
   ],
   "source": [
    "acierto=0\n",
    "lanzamientos=0\n",
    "num_decimales = int(input(\"Ingrese el número de decimales que requiere: \"))# numero de decimales que se requieran conseguir, se puede un máximo de 15 digitos que es lo que entrega math.pi\n",
    "if num_decimales <= 15:\n",
    "    time_start=time.time()\n",
    "    decimal_list = []\n",
    "    while True:\n",
    "        if lanzamiento():\n",
    "            acierto+=1\n",
    "        lanzamientos+=1\n",
    "        #print((acierto/lanzamientos)*4)\n",
    "        if num_decimales == decimales((acierto/lanzamientos)*4, time_start, lanzamientos):\n",
    "            print(\"tiempo total: {} [s] \".format(time.time()-time_start))  \n",
    "            print(\"probabilidad: {} \".format((acierto/lanzamientos)*4))\n",
    "            print(\"lanzamientos: {} \".format(lanzamientos))\n",
    "            break\n",
    "else:\n",
    "    print(\"Ingrese un número menor ó igual a 15\")"
   ]
  },
  {
   "cell_type": "code",
   "execution_count": null,
   "id": "9fad64c8",
   "metadata": {},
   "outputs": [],
   "source": []
  }
 ],
 "metadata": {
  "kernelspec": {
   "display_name": "Python 3 (ipykernel)",
   "language": "python",
   "name": "python3"
  },
  "language_info": {
   "codemirror_mode": {
    "name": "ipython",
    "version": 3
   },
   "file_extension": ".py",
   "mimetype": "text/x-python",
   "name": "python",
   "nbconvert_exporter": "python",
   "pygments_lexer": "ipython3",
   "version": "3.9.6"
  }
 },
 "nbformat": 4,
 "nbformat_minor": 5
}
