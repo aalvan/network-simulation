{
 "cells": [
  {
   "cell_type": "markdown",
   "metadata": {},
   "source": [
    "<h1 align=\"center\"> TEL341 Simulación de Redes  </h1>\n",
    "<h2 align=\"center\"> Ayudantía 1 - Introducción a Simuladores <h2>\n",
    "<h2 align=\"center\"> <img src=\"https://jupyter.org/assets/homepage/main-logo.svg\" width=\"150\"> </h2>"
   ]
  },
  {
   "cell_type": "markdown",
   "metadata": {},
   "source": [
    "## Jupyter Notebook\n",
    "\n",
    "The [Jupyter Notebook](https://jupyter.org) is an open-source web application that allows you to create and share documents that contain live code, equations, visualizations and narrative text. Uses include: data cleaning and transformation, **numerical simulation** , statistical modeling, data visualization, machine learning, and much more.\n",
    "\n",
    "\n",
    "## Voila \n",
    "\n",
    "[Voilà](https://voila.readthedocs.io/en/stable/index.html) helps you communicate insights, by transforming a Jupyter Notebook into a stand-alone web application you can share. It gives you control over what your readers experience in a secure and customizable interactive dashboard."
   ]
  },
  {
   "cell_type": "markdown",
   "metadata": {},
   "source": [
    "## 1.- Requerimientos\n",
    "\n",
    "* Instalar Anaconda Python Distribution\n",
    "    * Pueden descargarlo desde https://www.anaconda.com/products/individual\n",
    "\n",
    "* Actualizar Conda\n",
    "    * ``> conda update --all``\n",
    "    \n",
    "* Instalar Jupyter\n",
    "    * ``> conda install jupyter``  \n",
    "    \n",
    "    \n",
    "* [Alternative] Usar instalador de paquetes **pip**\n",
    "    * ``> pip install notebook``\n",
    "    \n",
    "* Instalar paquetes\n",
    "    * ``> conda install [package]``\n",
    "    * ``> pip install [package]``\n",
    "* Paquetes a instalar\n",
    "    * ``numpy``\n",
    "    * ``pandas``\n",
    "    * ``matplotlib``\n",
    "    * ``voila``\n",
    "* Paquetes opcionales\n",
    "    * ``numba``\n",
    "    \n",
    "#### Toda documentación e información relevante acerca de Jupyter puede ser encontrada en el siguiente [enlace](https://jupyter.org/documentation)"
   ]
  },
  {
   "cell_type": "markdown",
   "metadata": {},
   "source": []
  },
  {
   "cell_type": "markdown",
   "metadata": {},
   "source": [
    "## 2.- Jupyter markdown\n",
    "\n",
    "Una de las ventajas de Jupyter Notebook es que sus celdas soportan tanto código cómo escritura en Markdown. Durante el desarrollo de las tareas tomaremos ventaja de esta dualidad para presentar texto y resultados.\n",
    "\n",
    "Esta celda al igual que las anteriores corresponde a celdas en markdown. Aqui podemos hacer cosas como:\n",
    "\n",
    "* Punteos\n",
    "\n",
    "* Enlaces - [Aula](https://aula.usm.cl)\n",
    "\n",
    "* Fórmulas en *Latex* - $\\sum\\limits_a^b x_{n}$  \n",
    "\n",
    "* Código - ``sudo apt install ``\n",
    "\n",
    "```Python\n",
    "for i in range(100):\n",
    "    print(i)\n",
    "```\n",
    "\n",
    "* Imágenes\n",
    "<img src=\"https://wompampsupport.azureedge.net/fetchimage?siteId=7575&v=2&jpgQuality=100&width=700&url=https%3A%2F%2Fi.kym-cdn.com%2Fentries%2Ficons%2Fmobile%2F000%2F033%2F594%2FJust_Like_The_Simulations_Template.jpg\" width=\"500\">\n",
    "\n",
    "\n",
    "* Tablas \n",
    "\n",
    "| Ramo                | Sigla  | Alumnos |\n",
    "|---------------------|--------|---------|\n",
    "| Simulación de Redes | TEL341 | 30      |\n",
    "| Análisis Numérico   | MAT270 | 25      |\n",
    "\n",
    "\n",
    "#### Támbien es posible hacer listas númeradas\n",
    "1. También pueden\n",
    "2. hacerse listas\n",
    "3. que sean \n",
    "4. numeradas\n",
    "\n",
    "#### E incluso checklist de ser necesario \n",
    "- [X] Hacer ayudantía introductoria\n",
    "- [ ] Preparar próxima ayudantía\n",
    "- [ ] Salvar el semestre\n",
    "- [ ] Titularme\n",
    "\n",
    "\n",
    "#### Es posible jugar con formato de texto para fijar distintos tamaños con headers\n",
    "\n",
    "# this is a huge header #\n",
    "## this is a smaller header ##\n",
    "### this is even smaller ###\n",
    "#### more small ####\n",
    "##### even smaller #####\n",
    "\n",
    "#### Para más información sobre Markdown y su sintaxis consulte el [enlace](https://markdown.es/sintaxis-markdown/)"
   ]
  },
  {
   "cell_type": "markdown",
   "metadata": {},
   "source": [
    "## 3.- IPython Magics\n",
    "\n",
    "`IPython magics` son comandos personalizados que nos permiten interactuar desde ``Jupyter`` con nuestro ``OS`` y los archivos. Se tienen line magics `%` que solo afectan el comportamiento de dicha línea y cell magics `%%` que afectan a todo el código de la celda."
   ]
  },
  {
   "cell_type": "code",
   "execution_count": 1,
   "metadata": {},
   "outputs": [
    {
     "data": {
      "application/json": {
       "cell": {
        "!": "OSMagics",
        "HTML": "Other",
        "SVG": "Other",
        "bash": "Other",
        "capture": "ExecutionMagics",
        "cmd": "Other",
        "debug": "ExecutionMagics",
        "file": "Other",
        "html": "DisplayMagics",
        "javascript": "DisplayMagics",
        "js": "DisplayMagics",
        "latex": "DisplayMagics",
        "markdown": "DisplayMagics",
        "perl": "Other",
        "prun": "ExecutionMagics",
        "pypy": "Other",
        "python": "Other",
        "python2": "Other",
        "python3": "Other",
        "ruby": "Other",
        "script": "ScriptMagics",
        "sh": "Other",
        "svg": "DisplayMagics",
        "sx": "OSMagics",
        "system": "OSMagics",
        "time": "ExecutionMagics",
        "timeit": "ExecutionMagics",
        "writefile": "OSMagics"
       },
       "line": {
        "alias": "OSMagics",
        "alias_magic": "BasicMagics",
        "autoawait": "AsyncMagics",
        "autocall": "AutoMagics",
        "automagic": "AutoMagics",
        "autosave": "KernelMagics",
        "bookmark": "OSMagics",
        "cd": "OSMagics",
        "clear": "KernelMagics",
        "cls": "KernelMagics",
        "colors": "BasicMagics",
        "conda": "PackagingMagics",
        "config": "ConfigMagics",
        "connect_info": "KernelMagics",
        "copy": "Other",
        "ddir": "Other",
        "debug": "ExecutionMagics",
        "dhist": "OSMagics",
        "dirs": "OSMagics",
        "doctest_mode": "BasicMagics",
        "echo": "Other",
        "ed": "Other",
        "edit": "KernelMagics",
        "env": "OSMagics",
        "gui": "BasicMagics",
        "hist": "Other",
        "history": "HistoryMagics",
        "killbgscripts": "ScriptMagics",
        "ldir": "Other",
        "less": "KernelMagics",
        "load": "CodeMagics",
        "load_ext": "ExtensionMagics",
        "loadpy": "CodeMagics",
        "logoff": "LoggingMagics",
        "logon": "LoggingMagics",
        "logstart": "LoggingMagics",
        "logstate": "LoggingMagics",
        "logstop": "LoggingMagics",
        "ls": "Other",
        "lsmagic": "BasicMagics",
        "macro": "ExecutionMagics",
        "magic": "BasicMagics",
        "matplotlib": "PylabMagics",
        "mkdir": "Other",
        "more": "KernelMagics",
        "notebook": "BasicMagics",
        "page": "BasicMagics",
        "pastebin": "CodeMagics",
        "pdb": "ExecutionMagics",
        "pdef": "NamespaceMagics",
        "pdoc": "NamespaceMagics",
        "pfile": "NamespaceMagics",
        "pinfo": "NamespaceMagics",
        "pinfo2": "NamespaceMagics",
        "pip": "PackagingMagics",
        "popd": "OSMagics",
        "pprint": "BasicMagics",
        "precision": "BasicMagics",
        "prun": "ExecutionMagics",
        "psearch": "NamespaceMagics",
        "psource": "NamespaceMagics",
        "pushd": "OSMagics",
        "pwd": "OSMagics",
        "pycat": "OSMagics",
        "pylab": "PylabMagics",
        "qtconsole": "KernelMagics",
        "quickref": "BasicMagics",
        "recall": "HistoryMagics",
        "rehashx": "OSMagics",
        "reload_ext": "ExtensionMagics",
        "ren": "Other",
        "rep": "Other",
        "rerun": "HistoryMagics",
        "reset": "NamespaceMagics",
        "reset_selective": "NamespaceMagics",
        "rmdir": "Other",
        "run": "ExecutionMagics",
        "save": "CodeMagics",
        "sc": "OSMagics",
        "set_env": "OSMagics",
        "store": "StoreMagics",
        "sx": "OSMagics",
        "system": "OSMagics",
        "tb": "ExecutionMagics",
        "time": "ExecutionMagics",
        "timeit": "ExecutionMagics",
        "unalias": "OSMagics",
        "unload_ext": "ExtensionMagics",
        "who": "NamespaceMagics",
        "who_ls": "NamespaceMagics",
        "whos": "NamespaceMagics",
        "xdel": "NamespaceMagics",
        "xmode": "BasicMagics"
       }
      },
      "text/plain": [
       "Available line magics:\n",
       "%alias  %alias_magic  %autoawait  %autocall  %automagic  %autosave  %bookmark  %cd  %clear  %cls  %colors  %conda  %config  %connect_info  %copy  %ddir  %debug  %dhist  %dirs  %doctest_mode  %echo  %ed  %edit  %env  %gui  %hist  %history  %killbgscripts  %ldir  %less  %load  %load_ext  %loadpy  %logoff  %logon  %logstart  %logstate  %logstop  %ls  %lsmagic  %macro  %magic  %matplotlib  %mkdir  %more  %notebook  %page  %pastebin  %pdb  %pdef  %pdoc  %pfile  %pinfo  %pinfo2  %pip  %popd  %pprint  %precision  %prun  %psearch  %psource  %pushd  %pwd  %pycat  %pylab  %qtconsole  %quickref  %recall  %rehashx  %reload_ext  %ren  %rep  %rerun  %reset  %reset_selective  %rmdir  %run  %save  %sc  %set_env  %store  %sx  %system  %tb  %time  %timeit  %unalias  %unload_ext  %who  %who_ls  %whos  %xdel  %xmode\n",
       "\n",
       "Available cell magics:\n",
       "%%!  %%HTML  %%SVG  %%bash  %%capture  %%cmd  %%debug  %%file  %%html  %%javascript  %%js  %%latex  %%markdown  %%perl  %%prun  %%pypy  %%python  %%python2  %%python3  %%ruby  %%script  %%sh  %%svg  %%sx  %%system  %%time  %%timeit  %%writefile\n",
       "\n",
       "Automagic is ON, % prefix IS NOT needed for line magics."
      ]
     },
     "execution_count": 1,
     "metadata": {},
     "output_type": "execute_result"
    }
   ],
   "source": [
    "# this will list all magic commands\n",
    "%lsmagic"
   ]
  },
  {
   "cell_type": "markdown",
   "metadata": {},
   "source": [
    "De todo ese repertorio utilizaremos por sobre todo el comando mágico **``time ``** para medir el **wall time** o tiempo real de ejecución que corresponde al tiempo que demorará la ejecución completa de nuestras simulaciones."
   ]
  },
  {
   "cell_type": "markdown",
   "metadata": {},
   "source": [
    "## Ejemplo"
   ]
  },
  {
   "cell_type": "code",
   "execution_count": 1,
   "metadata": {},
   "outputs": [],
   "source": [
    "from random import uniform\n",
    "\n",
    "def simulacion(n):\n",
    "    exito = 0\n",
    "    for i in range(n):\n",
    "        if(uniform(0,1)**2 + uniform(0,1)**2 <= 1):\n",
    "            exito += 1\n",
    "    \n",
    "            p = 4*exito / (i+1)\n",
    "            if(float(\"{0:.8f}\".format(p)) == 3.14159265):\n",
    "                print(\"8 digitos\")\n",
    "                return\n",
    "    return p"
   ]
  },
  {
   "cell_type": "code",
   "execution_count": 4,
   "metadata": {},
   "outputs": [
    {
     "name": "stdout",
     "output_type": "stream",
     "text": [
      "8 digitos\n",
      "CPU times: user 493 ms, sys: 0 ns, total: 493 ms\n",
      "Wall time: 499 ms\n"
     ]
    }
   ],
   "source": [
    "time simulacion(10**6)"
   ]
  },
  {
   "cell_type": "code",
   "execution_count": 5,
   "metadata": {
    "scrolled": false
   },
   "outputs": [
    {
     "name": "stdout",
     "output_type": "stream",
     "text": [
      "CPU times: user 1 s, sys: 0 ns, total: 1 s\n",
      "Wall time: 1e+03 ms\n"
     ]
    },
    {
     "data": {
      "text/plain": [
       "3.142007142007142"
      ]
     },
     "execution_count": 5,
     "metadata": {},
     "output_type": "execute_result"
    }
   ],
   "source": [
    "%time simulacion(10**6)"
   ]
  },
  {
   "cell_type": "markdown",
   "metadata": {},
   "source": [
    "## 4. Entrando a la simulación"
   ]
  },
  {
   "cell_type": "markdown",
   "metadata": {},
   "source": [
    "## Simulador\n",
    "\n",
    "Es un instrumento que permitirá replicar el comportamiento de un programa o sistema. Así se pueden hacer pruebas, evaluar rendimiento, replicar el corportamiento antes de implementar entre otras. Para el ramo programaremos simuladores utilizando python y replicando el funcionamiento de casos reales para evaluar su rendimiento bajo condiciones variables. \n",
    "\n",
    "### Diagramas de Flujo\n",
    "\n",
    "Un diagrama de flujo nos permitirá visualizar de forma gráfica los pasos que debemos seguir para que el simulador funciones correctamente. El simulador, y por ende el diagrama, siempre se compone de 3 partes esenciales:\n",
    "\n",
    "* **Inicialización de variables**\n",
    "* **Proceso de simulación**\n",
    "* **Evaluación de las medidas de rendimiento**\n",
    "\n",
    "<figure>\n",
    "  <br><img title=\"Diagrama de flujo\" alt=\"t\" src=\"diagrama_flujo.png\" ><br>\n",
    "  <center><figcaption>Fig.1 Diagrama de Flujo</figcaption></center>\n",
    "</figure>"
   ]
  },
  {
   "cell_type": "markdown",
   "metadata": {},
   "source": [
    "### Inicialización\n",
    "\n",
    "Se definen las condiciones de inicio de la simulación (se inician las variables). Se generan los eventos externos, es decir, eventos que ocurren fuera del sistema, pero que afectan al sistema mismo. Ejemplo: LLegadas de un usuario\n",
    "\n",
    "Además se crea una parte importante de nuestro simulador, la **FEL**.\n",
    "\n",
    "### FEL - Lista de Eventos Futuros \n",
    "\n",
    "¿Que es la FEL? Es una estructura de datos, una lista simplemente enlazada que contendrá todos los eventos que ocurren en la simulación. Es decir, todos los eventos pasarán y serán almacenados en la FEL. A modo de ejemplo \n",
    "\n",
    "\n",
    "<figure>\n",
    "  <br><img title=\"Fel\" alt=\"fel\" src=\"fel.png\" width=\"500\" height=\"600\"><br>\n",
    "  <center><figcaption>Fig.2 Lista de eventos futuros</figcaption></center>\n",
    "</figure>\n",
    "\n",
    "Siempre dentro de una FEL se cumple que $t_{1} \\leqslant t_{2} \\leqslant t_{3} \\leqslant ... t_{n}$. Esto quiere decir que los eventos se ordenaran a partir del tiempo en el que ocurren, donde siempre el primer elemento (evento) de la FEL será considerado como el *tiempo actual* en el reloj de la simulación; a este primer evento le llamaremos **evento inminente**.  \n"
   ]
  },
  {
   "cell_type": "markdown",
   "metadata": {},
   "source": [
    "## Generando Variables Aleatorias\n",
    "\n",
    "Este método es sencillo de utilizar cuando la Función de Distribución Acumulada (CDF), es conocida y tiene inversa fácil de trabajar.\n",
    "\n",
    "### TEOREMA \n",
    "Sea X una variable aleatoria con función de distribución de probabilidad acumulada $F$, continua e invertible, y sea $F^{-1}$ su función inversa. Entonces, la variable aleatoria U=F(X) tiene distribución uniforme en [0,1]. Como consecuencia, si U es una variable aleatoria uniforme en [0,1] entonces la variable aleatoria $F^{-1}(U)=X$ satisface la distribución F\n",
    "\n",
    "Dada la función de densidad de probabilidad (PDF), se elabora la CDF como: <br><br>\n",
    "\n",
    "<center> $F(x) = \\int\\limits_{\\infty}^x f(x) dx$ <center>\n",
    "\n",
    "Ahora si consideramos $ f(x) = \\lambda e^{-\\lambda x}$ una función de distribución exponencial podemos elaborar su CDF y elaborar para obtener una expresión que nos permita generar tiempos aleatorios. <br><br>\n",
    "\n",
    "<center> $F(x) = \\int\\limits_{\\infty}^x \\lambda e^{-\\lambda x} dx$ <center>\n",
    "<center> $F(x) =  1 - \\lambda e^{-\\lambda x} ; \\forall x \\geq 0$   <center> <br>\n",
    "    \n",
    " Por ende, una muestra **x** de tiempo de la distribución $Exp(\\lambda)$ quedaría dada por: <br><br>\n",
    "    \n",
    "<center> $x = F^{-1}(x) =  - \\frac{1}{\\lambda} ln(1 - u)$ <center> <br>    \n",
    "<center> $x = - \\frac{1}{\\lambda} ln(1 - u)$ <center> <br>   \n",
    "\n",
    "Así como la variable aleatoria (1 - u) también se encuentra distribuida por una variable uniforme en [0,1] podemos obtener x como un tiempo aleatorio. \n",
    "    \n",
    "¿Por qué distribución exponencial? Se utiliza para modelar tiempos de espera para la ocurrencia de un cierto evento "
   ]
  },
  {
   "cell_type": "code",
   "execution_count": 8,
   "metadata": {},
   "outputs": [],
   "source": [
    "import numpy as np\n",
    "# Generación de tiempos aleatorios Exp(lambda)\n",
    "def randExp(lamb,size=1):    \n",
    "    pt = np.random.rand(size)\n",
    "    return (-1/lamb)*np.log(pt)\n",
    "\n",
    "# Distribución exponencial Exp(lambda)\n",
    "def expDist(lamb,x):\n",
    "    return lamb*np.exp(-lamb*x)"
   ]
  },
  {
   "cell_type": "code",
   "execution_count": 13,
   "metadata": {},
   "outputs": [
    {
     "data": {
      "text/plain": [
       "array([0.20296537, 0.1556348 , 0.31449378, 0.13123682, 0.1045893 ,\n",
       "       0.39731772, 0.06187934, 0.39016016, 0.28378688, 0.03973555])"
      ]
     },
     "execution_count": 13,
     "metadata": {},
     "output_type": "execute_result"
    }
   ],
   "source": [
    "exp = randExp(6,size=1)\n",
    "exp"
   ]
  },
  {
   "cell_type": "code",
   "execution_count": 14,
   "metadata": {},
   "outputs": [
    {
     "data": {
      "text/plain": [
       "array([0.02491167, 0.58162938, 0.56066987, 0.21150148, 0.0056753 ,\n",
       "       0.31505115, 0.35228971, 0.12391013, 0.33848333, 0.04390504])"
      ]
     },
     "execution_count": 14,
     "metadata": {},
     "output_type": "execute_result"
    }
   ],
   "source": [
    "exp = randExp(3,size=10)\n",
    "exp"
   ]
  },
  {
   "cell_type": "code",
   "execution_count": 15,
   "metadata": {},
   "outputs": [
    {
     "name": "stdout",
     "output_type": "stream",
     "text": [
      "[(0, array([0.54993643])), (1, array([0.27458991])), (2, array([1.75425161])), (3, array([0.01226257])), (4, array([0.87572723])), (5, array([0.93189511])), (6, array([4.27352478])), (7, array([1.74994947])), (8, array([0.21510983])), (9, array([1.02014293]))]\n"
     ]
    }
   ],
   "source": [
    "from operator import itemgetter\n",
    "\n",
    "FEL = [] # Lista de tuplas que contiene a los eventos en el formato (Identificador , tiempo ocurrencia)\n",
    "\n",
    "M    = 10\n",
    "lamb = 0.5\n",
    "for i in range(M):\n",
    "    FEL.append((i,randExp(lamb))) \n",
    "\n",
    "print(FEL)\n",
    "FEL.sort(key=itemgetter(1)) # Ordenamiento de la FEL a partir de su tiempo aleatorio"
   ]
  },
  {
   "cell_type": "code",
   "execution_count": 16,
   "metadata": {},
   "outputs": [
    {
     "data": {
      "text/plain": [
       "[(3, array([0.01226257])),\n",
       " (8, array([0.21510983])),\n",
       " (1, array([0.27458991])),\n",
       " (0, array([0.54993643])),\n",
       " (4, array([0.87572723])),\n",
       " (5, array([0.93189511])),\n",
       " (9, array([1.02014293])),\n",
       " (7, array([1.74994947])),\n",
       " (2, array([1.75425161])),\n",
       " (6, array([4.27352478]))]"
      ]
     },
     "execution_count": 16,
     "metadata": {},
     "output_type": "execute_result"
    }
   ],
   "source": [
    "FEL"
   ]
  },
  {
   "cell_type": "markdown",
   "metadata": {},
   "source": [
    "## Ejemplo de una Simulación\n",
    "\n",
    "Se tiene  un sistema con *M* usuarios y cuyo tiempo de arribo para cada usuario viene distribuido por una $Exp(\\lambda)$. Este sistema tiene un buffer o lista de espera de almacenamiento de largo infinito y un servidor cuyo tiempo de atención está distribuido por una $Exp(\\mu)$. Un diagrama del funcionamiento del sistema se puede ver de la siguiente forma:\n",
    "\n",
    "<figure>\n",
    "  <br><img title=\"simula\" alt=\"simula\" src=\"example.png\" width=\"600\" height=\"800\"><br>\n",
    "  <center><figcaption>Fig.3 Diagrama del sistema propuesto </figcaption></center>\n",
    "</figure>\n",
    "\n",
    "#### Consideraremos para esta situación que el servidor solo puede atender un arribo a la vez. "
   ]
  },
  {
   "cell_type": "markdown",
   "metadata": {},
   "source": [
    "<figure>\n",
    "  <br><img title=\"diagrama_1\" alt=\"\" src=\"simula_1.png\" ><br>\n",
    "  <center><figcaption>Fig.4 Diagrama de flujo bloque simulación </figcaption></center>\n",
    "</figure>"
   ]
  },
  {
   "cell_type": "markdown",
   "metadata": {},
   "source": [
    "<figure>\n",
    "  <br><img title=\"diagrama_2\" alt=\"fel\" src=\"simula_2.png\" ><br>\n",
    "  <center><figcaption>Fig.5 Diagrama de flujo bloque procesar arribos</figcaption></center>\n",
    "</figure>"
   ]
  },
  {
   "cell_type": "markdown",
   "metadata": {},
   "source": [
    "<figure>\n",
    "  <br><img title=\"diagrama_3\" alt=\"fel\" src=\"simula_3.png\" ><br>\n",
    "  <center><figcaption>Fig.6 Diagrama ded flujo bloque procesar salidas</figcaption></center>\n",
    "</figure>"
   ]
  }
 ],
 "metadata": {
  "kernelspec": {
   "display_name": "Python 3 (ipykernel)",
   "language": "python",
   "name": "python3"
  },
  "language_info": {
   "codemirror_mode": {
    "name": "ipython",
    "version": 3
   },
   "file_extension": ".py",
   "mimetype": "text/x-python",
   "name": "python",
   "nbconvert_exporter": "python",
   "pygments_lexer": "ipython3",
   "version": "3.8.10"
  },
  "latex_envs": {
   "LaTeX_envs_menu_present": true,
   "autoclose": false,
   "autocomplete": true,
   "bibliofile": "biblio.bib",
   "cite_by": "apalike",
   "current_citInitial": 1,
   "eqLabelWithNumbers": true,
   "eqNumInitial": 1,
   "hotkeys": {
    "equation": "Ctrl-E",
    "itemize": "Ctrl-I"
   },
   "labels_anchors": false,
   "latex_user_defs": false,
   "report_style_numbering": false,
   "user_envs_cfg": false
  }
 },
 "nbformat": 4,
 "nbformat_minor": 4
}
