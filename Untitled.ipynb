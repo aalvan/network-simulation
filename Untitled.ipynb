{
 "cells": [
  {
   "cell_type": "code",
   "execution_count": 181,
   "id": "af73bb16",
   "metadata": {},
   "outputs": [],
   "source": [
    "import random\n",
    "import math\n",
    "import numpy as np\n",
    "import matplotlib.pyplot as plt\n",
    "from scipy.special import factorial"
   ]
  },
  {
   "cell_type": "code",
   "execution_count": 182,
   "id": "d07efd34",
   "metadata": {},
   "outputs": [],
   "source": [
    "list_number = []\n",
    "list_poisson_1 = []\n",
    "list_poisson_2 = []\n",
    "p = 1\n",
    "lamda = 2"
   ]
  },
  {
   "cell_type": "code",
   "execution_count": 183,
   "id": "bd83c58d",
   "metadata": {},
   "outputs": [],
   "source": [
    "for i in range(100):\n",
    "    list_number.append(random.uniform(0,10))"
   ]
  },
  {
   "cell_type": "code",
   "execution_count": 176,
   "id": "d8159641",
   "metadata": {},
   "outputs": [],
   "source": [
    "for Rn in list_number:\n",
    "    p = p * Rn\n",
    "    if (p >= math.exp(-lamda)):\n",
    "        list_poisson_1.append(p)"
   ]
  },
  {
   "cell_type": "code",
   "execution_count": 177,
   "id": "9dbb4eab",
   "metadata": {},
   "outputs": [
    {
     "data": {
      "image/png": "[encoded data removed]",
      "text/plain": [
       "<Figure size 432x288 with 1 Axes>"
      ]
     },
     "metadata": {
      "needs_background": "light"
     },
     "output_type": "display_data"
    }
   ],
   "source": [
    "t=range(len(list_poisson_1))\n",
    "plt.plot(t,list_poisson_1)\n",
    "\n",
    "#plt.scatter(t, list_poisson)\n",
    "plt.show()"
   ]
  },
  {
   "cell_type": "code",
   "execution_count": 178,
   "id": "b3275407",
   "metadata": {},
   "outputs": [],
   "source": [
    "p = 1\n",
    "lamda = 2"
   ]
  },
  {
   "cell_type": "code",
   "execution_count": 184,
   "id": "e42da817",
   "metadata": {},
   "outputs": [],
   "source": [
    "for Rn in list_number:\n",
    "    p = p * Rn\n",
    "    if (p < math.exp(-lamda)):\n",
    "        list_poisson_2.append(p)"
   ]
  },
  {
   "cell_type": "code",
   "execution_count": 185,
   "id": "9f6433c9",
   "metadata": {},
   "outputs": [
    {
     "data": {
      "text/plain": [
       "[]"
      ]
     },
     "execution_count": 185,
     "metadata": {},
     "output_type": "execute_result"
    }
   ],
   "source": [
    "list_poisson_2"
   ]
  },
  {
   "cell_type": "code",
   "execution_count": 169,
   "id": "11b0b4fe",
   "metadata": {},
   "outputs": [],
   "source": [
    "list_3 = list_poisson_2 + list_poisson_1"
   ]
  },
  {
   "cell_type": "code",
   "execution_count": 170,
   "id": "21c6aaf5",
   "metadata": {},
   "outputs": [
    {
     "data": {
      "image/png": "[encoded data removed]",
      "text/plain": [
       "<Figure size 432x288 with 1 Axes>"
      ]
     },
     "metadata": {
      "needs_background": "light"
     },
     "output_type": "display_data"
    }
   ],
   "source": [
    "t=range(len(list_poisson_2))\n",
    "plt.plot(t,list_poisson_2)\n",
    "\n",
    "#plt.scatter(t, list_poisson)\n",
    "plt.show()"
   ]
  },
  {
   "cell_type": "code",
   "execution_count": null,
   "id": "4dfba128",
   "metadata": {},
   "outputs": [],
   "source": []
  },
  {
   "cell_type": "code",
   "execution_count": 7,
   "id": "4fb93787",
   "metadata": {},
   "outputs": [
    {
     "data": {
      "image/png": "[encoded data removed]",
      "text/plain": [
       "<Figure size 432x288 with 1 Axes>"
      ]
     },
     "metadata": {
      "needs_background": "light"
     },
     "output_type": "display_data"
    }
   ],
   "source": [
    "t=np.arange(0,100,0.5)\n",
    "d=np.exp(lamda)*np.power(lamda,t)/factorial(t)\n",
    "plt.plot(t,d)\n",
    "plt.show()"
   ]
  },
  {
   "cell_type": "code",
   "execution_count": null,
   "id": "347e5080",
   "metadata": {},
   "outputs": [],
   "source": []
  }
 ],
 "metadata": {
  "kernelspec": {
   "display_name": "dm-env",
   "language": "python",
   "name": "dm-env"
  },
  "language_info": {
   "codemirror_mode": {
    "name": "ipython",
    "version": 3
   },
   "file_extension": ".py",
   "mimetype": "text/x-python",
   "name": "python",
   "nbconvert_exporter": "python",
   "pygments_lexer": "ipython3",
   "version": "3.9.6"
  }
 },
 "nbformat": 4,
 "nbformat_minor": 5
}
