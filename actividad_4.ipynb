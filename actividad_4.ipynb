{
 "cells": [
  {
   "cell_type": "markdown",
   "metadata": {},
   "source": [
    "## Actividad 4"
   ]
  },
  {
   "cell_type": "markdown",
   "metadata": {},
   "source": [
    "Grupo:\n",
    "\n",
    "* Karolain Cabrera\n",
    "* Alexis Alva\n",
    "* Gabriel  Fuentes\n",
    "* Catalina Zelaña\n",
    "* Phillipa Paredes\n",
    "* Javier Quiroga\n",
    "    "
   ]
  },
  {
   "cell_type": "markdown",
   "metadata": {},
   "source": [
    "1. Investiguen sobre los métodos para generar variables aleatorias de distintas distribuciones\n",
    "probabilísticas. Elija entre la distribución Normal, Poisson, Weibull, Erlang, Pareto y Binomial.\n",
    "2. Averigüe en que problemas la distribución probabilística es utilizadas. Por ejemplo: en redes de\n",
    "computadores se utiliza la distribución exponencial para representar el tiempo entre solicitudes de\n",
    "conexión.\n",
    "3. Escriba un resumen de una plana que concisamente explique los 2 puntos anteriores.\n",
    "4. Implemente en Jupyter notebook el generado de la variable aleatoria elegida, evidenciando que la\n",
    "secuencia obtenida realmente representa la distribución probabilística elegida.\n",
    "5. Entregar a su queridísimo profesor al correo nicolas.jara@usm.cl"
   ]
  },
  {
   "cell_type": "markdown",
   "metadata": {},
   "source": [
    "La distribución de Poisson es una distribución de probabilidad discreta que se aplica a las ocurrencias de algún evento durante un periodo determinado. Es decir, es una distribución de probabilidad discreta en la que solo es necesario conocer los eventos y cuál es su frecuencia media de ocurrencia para poder conocer la probabilidad de que ocurran.\n",
    "\n",
    "En la vida real se utiliza la distribución de Poisson para hacer cálculos de probabilidades donde se requiere contar el número de veces que se produce un suceso aleatorio durante un periodo determinado de tiempo (o también de distancia, área u otro parámetro). Es especialmente útil para calcular probabilidades muy pequeñas o sucesos que tienen pocas posibilidades de producirse.\n",
    "\n",
    "Un ejemplo de aplicacion es el contador de Geiger, este es un instrumento para medir la radiactividad de un objeto o zona. Se utiliza la distribución de Poisson para calcular el comportamiento estadístico de la radiación y así poder establecer su nivel.\n",
    "\n",
    "Los contadores de personas que habitualmente se utilizan en los comercios para saber el número de personas que entran en su establecimiento durante un periodo de tiempo (número de clientes en la última hora, por ejemplo).\n",
    "\n",
    "En el mundo de los mercados y la bolsa se utiliza la distribución de Poisson para calcular el riesgo de las operaciones en los tiempos de espera entre transacciones financieras. \n",
    "\n",
    "Esta distribucion puede utilizarse en el cálculo de las llamadas de teléfono que se reciben en un día en una central telefonica. Se puede aplicar tambien en establecer el número de bacterias que hay en un volumen de determinado de agua, establecer el riesgo de crédito en una operación de financiación, calcular la cantidad de estrellas en un determinado volumen espacio o el número de accidentes por año registrados por una compañía de seguros, el número de peticiones de servicio diarias de un servidor web.\n",
    "\n",
    "Las aplicaciones de esta distribución se usan en todas las áreas de la vida, siendo especialmente útiles en el sector empresarial para poder hacer predicciones sobre el riesgo de las operaciones.\n",
    "\n",
    "En la ciencia y en la medicina es habitual la aplicación de la distribución de Poisson para realizar cálculos de probabilidades en sucesos que son muy difíciles de predecir y que tienen una ocurrencia aleatoria."
   ]
  },
  {
   "cell_type": "code",
   "execution_count": 45,
   "metadata": {
    "scrolled": true
   },
   "outputs": [
    {
     "name": "stdout",
     "output_type": "stream",
     "text": [
      "0.262098678065132\n",
      "0.2400858215101501\n",
      "0.13850096278222288\n",
      "0.03766034312689836\n",
      "0.03081820614329111\n",
      "0.015711972060873897\n",
      "0.0006752088642871743\n",
      "0.00040982416130275786\n",
      "0.0003256513211221121\n",
      "5.499881716646509e-05\n",
      "4.226941482295234e-06\n",
      "2.917022673556772e-06\n",
      "4.271651657352005e-07\n",
      "2.5519009398634977e-07\n",
      "2.4853255939012885e-07\n",
      "8.635098605304916e-08\n",
      "8.171320311929293e-09\n",
      "7.949566571607637e-09\n",
      "7.926847508660917e-09\n",
      "4.194825329835821e-09\n",
      "3.461387639557999e-09\n",
      "1.944115104405154e-10\n",
      "9.728802946917858e-11\n",
      "2.8031076150166614e-11\n",
      "1.700889584397912e-11\n",
      "1.0846967184171488e-12\n",
      "6.988818374970872e-13\n",
      "3.3713501845336514e-13\n",
      "2.5487840184801904e-13\n",
      "2.1253598034598905e-13\n",
      "2.0573537404185204e-13\n",
      "5.462336895946251e-14\n",
      "2.1295768367534817e-14\n",
      "3.2072568726087624e-15\n",
      "8.20615699772972e-16\n",
      "6.445022113581472e-16\n",
      "7.469878379462223e-17\n",
      "7.332210417265244e-17\n",
      "3.9254136251938714e-18\n",
      "1.7740404745647423e-18\n",
      "8.21866019495299e-19\n",
      "7.09335974896631e-20\n",
      "6.950767350454676e-20\n",
      "1.1016964780124619e-20\n",
      "1.010083451206558e-20\n",
      "8.609764098343083e-22\n",
      "4.625137463820987e-22\n",
      "3.617544296387402e-22\n",
      "3.204288835493249e-23\n",
      "3.148818728393726e-23\n",
      "2.609304228433726e-23\n",
      "2.597193989940002e-23\n",
      "1.5345218667225468e-23\n",
      "1.4762844207208242e-23\n",
      "1.3234505918005106e-23\n",
      "3.4762515376277014e-24\n",
      "1.651649801754244e-24\n",
      "9.20373979242895e-25\n",
      "9.018907189659334e-25\n",
      "5.5660169324228e-25\n",
      "3.9836979386704117e-25\n",
      "2.472400490650604e-25\n",
      "1.3766204380317773e-25\n",
      "1.0570590193825742e-25\n",
      "8.103534183510946e-26\n",
      "2.3544860590788456e-26\n",
      "1.3897102730443205e-26\n",
      "1.0634068496766033e-26\n",
      "7.783100636237251e-27\n",
      "4.557196278378673e-27\n",
      "3.699883434259185e-27\n",
      "3.663674530014349e-27\n",
      "2.1413988505819202e-27\n",
      "7.333992974157996e-29\n",
      "5.822778993210259e-29\n",
      "2.023279907425704e-29\n",
      "1.5852826396023957e-30\n",
      "4.04536384884652e-31\n",
      "8.059773608973232e-32\n",
      "7.022219663267514e-32\n",
      "8.101295636514235e-33\n",
      "8.088473328818507e-33\n",
      "5.676413019332876e-33\n",
      "2.3900684900749412e-33\n",
      "3.2745286795051086e-34\n",
      "1.361495468060382e-34\n",
      "3.2050570752463803e-35\n",
      "2.2267266918038615e-35\n",
      "2.0330940727144734e-35\n",
      "7.312777256539467e-37\n",
      "9.092089509759387e-39\n",
      "9.892385988162924e-40\n",
      "7.824482370563219e-40\n",
      "7.544655677171515e-40\n",
      "6.207522750514959e-40\n",
      "3.4172251631509697e-40\n",
      "3.2151674116857702e-40\n",
      "1.3760499207722194e-41\n",
      "2.533746393236472e-42\n",
      "2.4911176886545814e-42\n",
      "1.1687449829709669e-42\n",
      "3.7835343403159166e-44\n",
      "1.4716617128246196e-44\n",
      "9.511119026549697e-45\n",
      "1.0454743878896631e-47\n",
      "4.1542834688225747e-48\n",
      "1.1027568817389877e-48\n",
      "6.289369909666698e-50\n",
      "3.1055144534360915e-51\n",
      "1.7602412782861295e-51\n",
      "6.997848588569483e-52\n",
      "6.796752920825514e-52\n",
      "5.096886837583915e-52\n",
      "3.7292584560089555e-52\n",
      "3.263426994312246e-52\n",
      "1.4082641279314384e-52\n",
      "6.507387537502426e-53\n",
      "4.804706812992252e-53\n",
      "2.638088672717715e-53\n",
      "2.2096910375400427e-53\n",
      "1.808634120494493e-53\n"
     ]
    }
   ],
   "source": [
    "from random import uniform\n",
    "import math\n",
    "import numpy as np\n",
    "from scipy.special import factorial\n",
    "\n",
    "#Procedimiento para generar una variación aleatoria Poisson \n",
    "Rs = []\n",
    "n = 100\n",
    "for k in range(n):\n",
    "    Rs.append(uniform(0,1))\n",
    "\n",
    "lista= []    \n",
    "P = 1\n",
    "lamb = 20\n",
    "'''\n",
    "\n",
    "for i in Rs:\n",
    "    P= P*i\n",
    "    if (P < math.exp(-lamb) ):\n",
    "        lista.append(P)\n",
    "'''\n",
    "\n",
    "counter = 0\n",
    "while(counter < n):\n",
    "    Rn = uniform(0,1)\n",
    "    P = P * Rn\n",
    "    print(P)\n",
    "    if (P < math.exp(-lamb)):\n",
    "        lista.append(P)\n",
    "        counter += 1"
   ]
  },
  {
   "cell_type": "raw",
   "metadata": {},
   "source": [
    "Rn"
   ]
  },
  {
   "cell_type": "code",
   "execution_count": 46,
   "metadata": {},
   "outputs": [
    {
     "data": {
      "image/png": "[encoded data removed]",
      "text/plain": [
       "<Figure size 432x288 with 1 Axes>"
      ]
     },
     "metadata": {
      "needs_background": "light"
     },
     "output_type": "display_data"
    },
    {
     "data": {
      "text/plain": [
       "<Figure size 720x720 with 0 Axes>"
      ]
     },
     "metadata": {},
     "output_type": "display_data"
    }
   ],
   "source": [
    "import matplotlib.pyplot as plt\n",
    "#plt.plot(lista)\n",
    "t=range(0,100)\n",
    "plt.scatter(t, lista)\n",
    "plt.xlabel('X')\n",
    "plt.ylabel('P(x)')\n",
    "plt.figure(figsize=(10,10))\n",
    "plt.show()"
   ]
  },
  {
   "cell_type": "code",
   "execution_count": 27,
   "metadata": {},
   "outputs": [
    {
     "name": "stdout",
     "output_type": "stream",
     "text": [
      "[0.1, 0.2, 0.3, 0.4, 0.5, 0.6, 0.7, 0.8, 0.9, 1.0, 1.1, 1.2, 1.3, 1.4, 1.5, 1.6, 1.7, 1.8, 1.9, 2.0, 2.1, 2.2, 2.3, 2.4, 2.5, 2.6, 2.7, 2.8, 2.9, 3.0, 3.1, 3.2, 3.3, 3.4, 3.5, 3.6, 3.7, 3.8, 3.9, 4.0, 4.1, 4.2, 4.3, 4.4, 4.5, 4.6, 4.7, 4.8, 4.9, 5.0, 5.1, 5.2, 5.3, 5.4, 5.5, 5.6, 5.7, 5.8, 5.9, 6.0, 6.1, 6.2, 6.3, 6.4, 6.5, 6.6, 6.7, 6.8, 6.9, 7.0, 7.1, 7.2, 7.3, 7.4, 7.5, 7.6, 7.7, 7.8, 7.9, 8.0, 8.1, 8.2, 8.3, 8.4, 8.5, 8.6, 8.7, 8.8, 8.9, 9.0, 9.1, 9.2, 9.3, 9.4, 9.5, 9.6, 9.7, 9.8, 9.9, 10.0]\n"
     ]
    }
   ],
   "source": [
    "#100 numeros de 0.1 al 10 \n",
    "const=0\n",
    "secuencia=[]\n",
    "while(True):\n",
    "    if(len(secuencia)==100): break\n",
    "    const+=0.10       \n",
    "    secuencia.append(round(const,7))    \n",
    "print(secuencia)\n",
    "    "
   ]
  },
  {
   "cell_type": "code",
   "execution_count": 28,
   "metadata": {},
   "outputs": [],
   "source": [
    "#Función de masa de probabilidad de distribución Poisson\n",
    "probabilidades=[]\n",
    "for j in secuencia:\n",
    "    px=np.exp(-lamb)*np.power(lamb,j)/factorial(j)\n",
    "    probabilidades.append(round(px,7))"
   ]
  },
  {
   "cell_type": "code",
   "execution_count": 29,
   "metadata": {
    "scrolled": true
   },
   "outputs": [
    {
     "data": {
      "image/png": "[encoded data removed]",
      "text/plain": [
       "<Figure size 432x288 with 1 Axes>"
      ]
     },
     "metadata": {
      "needs_background": "light"
     },
     "output_type": "display_data"
    }
   ],
   "source": [
    "#Grafica\n",
    "import matplotlib.pyplot as plt\n",
    "'''plt.plot(secuencia, probabilidades)\n",
    "plt.xlabel('X')\n",
    "plt.ylabel('P(x)')\n",
    "plt.figure(figsize=(10,10))\n",
    "plt.show()'''\n",
    "t=np.arange(0,100,0.5)\n",
    "d=np.exp(lamb)*np.power(lamb,t)/factorial(t)\n",
    "plt.plot(t,d)\n",
    "plt.show()"
   ]
  },
  {
   "cell_type": "markdown",
   "metadata": {},
   "source": [
    "Al comparar los dos graficos podemos observan una similitud en su curva, por esto podemos concluir que es una distribucion poisson. (Si es que lambda tuviera un mayor valor la curva tomaria forma de una campana)"
   ]
  },
  {
   "cell_type": "code",
   "execution_count": null,
   "metadata": {},
   "outputs": [],
   "source": []
  }
 ],
 "metadata": {
  "interpreter": {
   "hash": "916dbcbb3f70747c44a77c7bcd40155683ae19c65e1c03b4aa3499c5328201f1"
  },
  "kernelspec": {
   "display_name": "dm-env",
   "language": "python",
   "name": "dm-env"
  },
  "language_info": {
   "codemirror_mode": {
    "name": "ipython",
    "version": 3
   },
   "file_extension": ".py",
   "mimetype": "text/x-python",
   "name": "python",
   "nbconvert_exporter": "python",
   "pygments_lexer": "ipython3",
   "version": "3.9.6"
  }
 },
 "nbformat": 4,
 "nbformat_minor": 2
}
