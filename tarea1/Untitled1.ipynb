{
 "cells": [
  {
   "cell_type": "code",
   "execution_count": 1,
   "id": "4e02d4be",
   "metadata": {},
   "outputs": [],
   "source": [
    "import numpy as np\n",
    "\n",
    "# Generación de tiempos aleatorios Exp(lambda)\n",
    "def randExp(lamb,size=1):    \n",
    "    pt = np.random.rand(size)\n",
    "    return (-1/lamb)*np.log(pt)\n",
    "\n",
    "# Distribución exponencial Exp(lambda)\n",
    "def expDist(lamb,x):\n",
    "    return lamb*np.exp(-lamb*x)"
   ]
  },
  {
   "cell_type": "code",
   "execution_count": null,
   "id": "0dd90a73",
   "metadata": {},
   "outputs": [],
   "source": [
    "from operator import itemgetter\n",
    "def initilization(m, c, Lamb, Mu):\n",
    "    global M,C,lamb,mu\n",
    "    M = m\n",
    "    C = c\n",
    "    lamb = Lamb\n",
    "    mu = Mu\n",
    "    if ((lamb/mu < 0.1)or(lamb/mu > 0.4) or (C > M)):\n",
    "        print(\"Ingrese unos valores validos para lambda\")\n",
    "        return\n",
    "    else:\n",
    "        global U, B ,arrivals\n",
    "        B = arrivals = U = 0\n",
    "        global FEL\n",
    "        FEL = []\n",
    "        for i in range(M):\n",
    "            tiempo = randExp(lamb) \n",
    "            FEL.append((i,tiempo))\n",
    "        FEL.sort(key=itemgetter(1))\n",
    "        return FEL"
   ]
  },
  {
   "cell_type": "code",
   "execution_count": 2,
   "id": "f71fc5ee",
   "metadata": {},
   "outputs": [],
   "source": [
    "def arrive(p_bloqueo):\n",
    "    global arrivals, U, B\n",
    "    arrivals += 1\n",
    "    if U == C:\n",
    "        B += 1\n",
    "        if (arrivals%sample==0):\n",
    "            list_arrives.append(arrivals)\n",
    "            p_bloqueo = p_bloqueo + (B/arrivals)\n",
    "            #print(\"p_bloqueo:\",p_bloqueo)\n",
    "            #print(\"B:\", B)\n",
    "            #print(\"arrivals:\", arrivals)\n",
    "            list_bloqueos.append(p_bloqueo)\n",
    "        # Evento Arribo por bloqueo\n",
    "        tiempoArribo = eventoActual[1] + randExp(lamb)\n",
    "        FEL.append((eventoActual[0], tiempoArribo))\n",
    "        FEL.sort(key=itemgetter(1))\n",
    "    else:\n",
    "        U +=1\n",
    "        # Evento Salida por atención\n",
    "        tiempoSalida = eventoActual[1] + randExp(mu)\n",
    "        FEL.append((eventoActual[0]+M, tiempoSalida))\n",
    "        FEL.sort(key=itemgetter(1))"
   ]
  },
  {
   "cell_type": "code",
   "execution_count": 3,
   "id": "99b5b430",
   "metadata": {},
   "outputs": [],
   "source": [
    "def exit():\n",
    "    global U\n",
    "    U -= 1\n",
    "    # Evento Arribo por salida\n",
    "    tiempoArribo = eventoActual[1] + randExp(lamb)\n",
    "    FEL.append((eventoActual[0]-M, tiempoArribo))\n",
    "    FEL.sort(key=itemgetter(1))"
   ]
  },
  {
   "cell_type": "code",
   "execution_count": null,
   "id": "982ab841",
   "metadata": {},
   "outputs": [],
   "source": [
    "def simulation"
   ]
  },
  {
   "cell_type": "code",
   "execution_count": null,
   "id": "a6f94825",
   "metadata": {},
   "outputs": [],
   "source": [
    "initilization(50,5,3,10) # (M, C, lambda, mu)\n",
    "list_bloqueos = []\n",
    "list_arrives = []\n",
    "P_bloqueo = 0\n",
    "P_bloqueo_total = 0\n",
    "LLEGADAS = 10**2\n",
    "sample = LLEGADAS/100\n",
    "while (arrivals < LLEGADAS):\n",
    "    eventoActual = FEL.pop(0)\n",
    "    #print(eventoActual)\n",
    "    if eventoActual[0] < M:\n",
    "        # Evento de llegada\n",
    "        arrive(P_bloqueo)\n",
    "        idEvento = eventoActual[0]\n",
    "        #print(idEvento)\n",
    "    else:\n",
    "        # Evento de salida\n",
    "        exit()\n",
    "        idEvento = eventoActual[0] - M\n",
    "        #print(idEvento)\n",
    "    #print(counter)\n",
    "P_bloqueo_total = B/LLEGADAS\n",
    "print(\"Probabilidad de bloqueo:{}\".format(P_bloqueo_total))"
   ]
  }
 ],
 "metadata": {
  "kernelspec": {
   "display_name": "dm-env",
   "language": "python",
   "name": "dm-env"
  },
  "language_info": {
   "codemirror_mode": {
    "name": "ipython",
    "version": 3
   },
   "file_extension": ".py",
   "mimetype": "text/x-python",
   "name": "python",
   "nbconvert_exporter": "python",
   "pygments_lexer": "ipython3",
   "version": "3.9.6"
  }
 },
 "nbformat": 4,
 "nbformat_minor": 5
}
