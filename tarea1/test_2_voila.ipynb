{
 "cells": [
  {
   "cell_type": "code",
   "execution_count": 7,
   "id": "33009bc2",
   "metadata": {},
   "outputs": [],
   "source": [
    "import numpy as np\n",
    "\n",
    "# Generación de tiempos aleatorios Exp(lambda)\n",
    "def randExp(lamb,size=1):    \n",
    "    pt = np.random.rand(size)\n",
    "    return (-1/lamb)*np.log(pt)\n",
    "\n",
    "# Distribución exponencial Exp(lambda)\n",
    "def expDist(lamb,x):\n",
    "    return lamb*np.exp(-lamb*x)"
   ]
  },
  {
   "cell_type": "code",
   "execution_count": 8,
   "id": "9bd3d936",
   "metadata": {},
   "outputs": [],
   "source": [
    "from operator import itemgetter\n",
    "import matplotlib.pyplot as plt\n",
    "def initilization(m, c, Lamb, Mu):\n",
    "    global M,C,lamb,mu\n",
    "    M = m\n",
    "    C = c\n",
    "    lamb = Lamb\n",
    "    mu = Mu\n",
    "    if ((lamb/mu < 0.1)or(lamb/mu > 0.4) or (C > M)):\n",
    "        print(\"Ingrese unos valores validos para lambda\")\n",
    "        return\n",
    "    else:\n",
    "        global U, B ,arrivals\n",
    "        B = arrivals = U = 0\n",
    "        global FEL\n",
    "        FEL = []\n",
    "        for i in range(M):\n",
    "            tiempo = randExp(lamb) \n",
    "            FEL.append((i,tiempo))\n",
    "        FEL.sort(key=itemgetter(1))\n",
    "        return FEL"
   ]
  },
  {
   "cell_type": "code",
   "execution_count": 9,
   "id": "4b7f9922",
   "metadata": {},
   "outputs": [],
   "source": [
    "def arrive(p_bloqueo):\n",
    "    global arrivals, U, B\n",
    "    arrivals += 1\n",
    "    if U == C:\n",
    "        B += 1\n",
    "        if (arrivals%sample==0):\n",
    "            list_arrives.append(arrivals)\n",
    "            p_bloqueo = p_bloqueo + (B/arrivals)\n",
    "            #print(\"p_bloqueo:\",p_bloqueo)\n",
    "            #print(\"B:\", B)\n",
    "            #print(\"arrivals:\", arrivals)\n",
    "            list_bloqueos.append(p_bloqueo)\n",
    "        # Evento Arribo por bloqueo\n",
    "        tiempoArribo = eventoActual[1] + randExp(lamb)\n",
    "        FEL.append((eventoActual[0], tiempoArribo))\n",
    "        FEL.sort(key=itemgetter(1))\n",
    "    else:\n",
    "        U +=1\n",
    "        # Evento Salida por atención\n",
    "        tiempoSalida = eventoActual[1] + randExp(mu)\n",
    "        FEL.append((eventoActual[0]+M, tiempoSalida))\n",
    "        FEL.sort(key=itemgetter(1))\n",
    "    "
   ]
  },
  {
   "cell_type": "code",
   "execution_count": 10,
   "id": "8f2ed5e1",
   "metadata": {},
   "outputs": [],
   "source": [
    "def exit():\n",
    "    global U\n",
    "    U -= 1\n",
    "    # Evento Arribo por salida\n",
    "    tiempoArribo = eventoActual[1] + randExp(lamb)\n",
    "    FEL.append((eventoActual[0]-M, tiempoArribo))\n",
    "    FEL.sort(key=itemgetter(1))\n",
    "    "
   ]
  },
  {
   "cell_type": "code",
   "execution_count": 11,
   "id": "abaa61ee",
   "metadata": {},
   "outputs": [
    {
     "name": "stdout",
     "output_type": "stream",
     "text": [
      "Probabilidad de bloqueo:0.24\n"
     ]
    },
    {
     "data": {
      "image/png": "[encoded data removed]",
      "text/plain": [
       "<Figure size 432x288 with 1 Axes>"
      ]
     },
     "metadata": {
      "needs_background": "light"
     },
     "output_type": "display_data"
    }
   ],
   "source": [
    "initilization(5,2,3,10) # (M, C, lambda, mu)\n",
    "list_bloqueos = []\n",
    "list_arrives = []\n",
    "P_bloqueo = 0\n",
    "P_bloqueo_total = 0\n",
    "LLEGADAS_1 = 10**2\n",
    "sample = LLEGADAS_1/100\n",
    "while (arrivals < LLEGADAS_1):\n",
    "    eventoActual = FEL.pop(0)\n",
    "    #print(eventoActual)\n",
    "    if eventoActual[0] < M:\n",
    "        # Evento de llegada\n",
    "        arrive(P_bloqueo)\n",
    "        idEvento = eventoActual[0]\n",
    "        #print(idEvento)\n",
    "    else:\n",
    "        # Evento de salida\n",
    "        exit()\n",
    "        idEvento = eventoActual[0] - M\n",
    "        #print(idEvento)\n",
    "    #print(counter)\n",
    "P_bloqueo_total_1 = B/LLEGADAS_1\n",
    "print(\"Probabilidad de bloqueo:{}\".format(P_bloqueo_total_1))\n",
    "plt.plot(list_arrives, list_bloqueos)\n",
    "plt.ylabel('Probabilidad de bloqueo')\n",
    "plt.xlabel('Número de llegadas')\n",
    "plt.title(\"Probabilidad de bloqueo vs Llegadas\")\n",
    "plt.show()"
   ]
  }
 ],
 "metadata": {
  "kernelspec": {
   "display_name": "dm-env",
   "language": "python",
   "name": "dm-env"
  },
  "language_info": {
   "codemirror_mode": {
    "name": "ipython",
    "version": 3
   },
   "file_extension": ".py",
   "mimetype": "text/x-python",
   "name": "python",
   "nbconvert_exporter": "python",
   "pygments_lexer": "ipython3",
   "version": "3.9.6"
  }
 },
 "nbformat": 4,
 "nbformat_minor": 5
}
