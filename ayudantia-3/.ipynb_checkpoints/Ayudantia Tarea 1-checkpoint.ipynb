{
 "cells": [
  {
   "cell_type": "markdown",
   "metadata": {},
   "source": [
    "<h1 align=\"center\"> TEL341 Simulación de Redes - Ayudantía </h1> \n",
    "<h3 align=\"center\"> Juan Pablo Sánchez </h3>\n",
    "<h3 align=\"center\"> 25 de Abril, 2022</h3>\n",
    "<h2 align=\"center\"> <img src=\"https://jupyter.org/assets/homepage/main-logo.svg\" width=\"150\"> </h2>"
   ]
  },
  {
   "cell_type": "code",
   "execution_count": null,
   "metadata": {},
   "outputs": [],
   "source": []
  },
  {
   "cell_type": "markdown",
   "metadata": {},
   "source": [
    "## Revisión Tarea 1 \n",
    "\n",
    "<figure>\n",
    "  <br><img title=\"canales\" alt=\"t\" src=\"canales.png\" ><br>\n",
    "  <center><figcaption>Fig.1 Asignación de Canales </figcaption></center>\n",
    "</figure>\n",
    "\n",
    "Se busca simular el comportamiento de un sistema con una capacidad **C** de canales que se encuentra constantemente recibiendo **M** usuarios que quieren utilizar el enlace. Debido a que el sistema tiene una capacidad limitada comparada al número de usuarios que quieren ocuparlo ($C < M$) existe la probabilidad que en algún punto un usario se intente conectar y todos los canales se encuentren ocupados, ocurriendo un **bloqueo**.\n",
    "\n",
    "La idea de esta primera tarea es buscar dicha **probabilidad de bloqueo** de que un usuario no pueda conectarse por congestión al enlace. \n",
    "\n",
    "\n",
    "<figure>\n",
    "  <br><img title=\"criterio\" alt=\"t\" src=\"criterio.png\" ><br>\n",
    "  <center><figcaption>Fig.2 Diagrama de flujo de la simulación </figcaption></center>\n",
    "</figure>\n",
    "\n",
    "Para esta simulación, tenemos que utilizar como **criterio de parada** el valor de $LLEGADAS = 10^{i}$ que representa la cantidad de arribos de usuarios que deben cumplirse para que el simulador termine su ejecución. Mientras la cantidad de arribos sea menor a este valor de **LLEGADAS** la ejecución de la simulación debe de continuar y seguir calculando las probabilidades de bloqueo.  "
   ]
  },
  {
   "cell_type": "markdown",
   "metadata": {},
   "source": [
    "<figure>\n",
    "  <br><img title=\"simulacion\" alt=\"t\" src=\"simulacion.png\"><br>\n",
    "  <center><figcaption>Fig.3 Diagrama de flujo de la simulación </figcaption></center>\n",
    "</figure>"
   ]
  },
  {
   "cell_type": "markdown",
   "metadata": {},
   "source": [
    "<figure>\n",
    "  <br><img title=\"arribos\" alt=\"t\" src=\"procesar_arribo.png\" ><br>\n",
    "  <center><figcaption>Fig.4 Diagrama de flujo procesar arribos </figcaption></center>\n",
    "</figure>"
   ]
  },
  {
   "cell_type": "markdown",
   "metadata": {},
   "source": [
    "<figure>\n",
    "  <br><img title=\"salidads\" alt=\"t\" src=\"procesar_salida.png\" ><br>\n",
    "  <center><figcaption>Fig.5 Diagrama de flujo procesar salidas </figcaption></center>\n",
    "</figure>"
   ]
  },
  {
   "cell_type": "markdown",
   "metadata": {},
   "source": [
    "### Estado inicial del sistema\n",
    "\n",
    "En su código tendrá por lo menos las siguientes variables iniciales que definirán el comportamiento de su simulador: \n",
    " \n",
    "* M - Cantidad de usuarios\n",
    "* C - Cantidad de canales \n",
    "* $\\lambda$ - Tasa de llegada de un usuario\n",
    "* $\\mu$ - Tasa de salida de un usuario \n",
    "\n",
    "Ustedes deben elegir valores para dichas variables acorde a las siguientes condiciones para que ejecute correctamente su simulador: \n",
    "* $C < M$\n",
    "* $ 0.1 \\leqslant \\frac{\\lambda}{\\mu} \\leqslant 0.4 $ \n",
    "\n",
    "Se debe inicializar la **FEL** con los eventos iniciales para poder simular el comportamiento del sistema. Puesto que no puede haber salidas si no hay llegadas."
   ]
  },
  {
   "cell_type": "markdown",
   "metadata": {},
   "source": [
    "## Generación de Tiempos Aleatorios\n",
    "\n",
    "Tal cómo vimos en la ayudantía anterior, la función randExp() nos permitirá generar valores para tiempos aleatorios a partir de un parámetro que modela la distribución exponencial.  \n",
    "\n",
    "```Python \n",
    "# Generación de tiempos aleatorios Exp(lambda)\n",
    "def randExp(lamb,size=1):    \n",
    "    pt = np.random.rand(size)\n",
    "    return (-1/lamb)*np.log(pt)\n",
    "\n",
    "# Distribución exponencial Exp(lambda)\n",
    "def expDist(lamb,x):\n",
    "    return lamb*np.exp(-lamb*x)\n",
    "```"
   ]
  },
  {
   "cell_type": "code",
   "execution_count": 4,
   "metadata": {},
   "outputs": [],
   "source": [
    "import numpy as np\n",
    "\n",
    "# Generación de tiempos aleatorios Exp(lambda)\n",
    "def randExp(lamb,size=1):    \n",
    "    pt = np.random.rand(size)\n",
    "    return (-1/lamb)*np.log(pt)\n",
    "\n",
    "# Distribución exponencial Exp(lambda)\n",
    "def expDist(lamb,x):\n",
    "    return lamb*np.exp(-lamb*x)"
   ]
  },
  {
   "cell_type": "markdown",
   "metadata": {},
   "source": [
    "## Codificación de Eventos\n",
    "\n",
    "Para cada evento dentro de la FEL tenemos 2 variables almacenadas dentro, el *id* del evento y su *tiempo* de ocurrencia asociado en la simulación. El tiempo estará dado por el cálculo del tiempo actual en el simulador más un tiempo asociado por la distribución correspondiente, pero ¿Cómo sabemos que distribución aplicar?\n",
    "\n",
    "Para esto tenemos que recordar las distribuciones $Exp(\\lambda)$ y $Exp(\\mu)$.\n",
    "* $Exp(\\lambda)$ con $\\lambda$ tasa de llegada nos generará los tiempos aleatorios para usuarios que entran al enlace.\n",
    "\n",
    "* $Exp(\\mu)$ con $\\mu$ tasa de salida que nos generará los tiempo aleatorios para usuarios que salen del enlace.\n",
    "\n",
    "Ahora, ¿Qué ocurre con los *id*?¿Cómo podemos identificar si una persona se encuentra ocupando o liberando un canal en el enlace? Ocupando solo el *id* junto a una condición de separación podemos identificar a cada usuario y su tipo de evento, sea una llegada o salida. Si tenemos *M* usuarios en nuestro sistema, tendremos la siguientes situaciones:\n",
    "\n",
    "* Los eventos de llegada comprenderán el rango de *id = {0, ... , M-1}*\n",
    "\n",
    "* Los eventos de salida comprenderán el rango de *id = {M, ... , 2M-1}*\n",
    "\n",
    "Con esta sencilla codificación nuestra condición para identificar si un evento actual corresponde a una llegada o salida se traduce en:\n",
    "\n",
    "```Python\n",
    "# eventoActual corresponde a una tupla (id,tiempo) que contiene el id del evento y el instante de tiempo.\n",
    "\n",
    "if eventoActual[0] < M:\n",
    "    # Evento de llegada\n",
    "    idEvento = eventoActual[0]\n",
    "else:\n",
    "    # Evento de salida\n",
    "    idEvento = eventoActual[0] - M\n",
    "```"
   ]
  },
  {
   "cell_type": "markdown",
   "metadata": {},
   "source": [
    "## Códigos Útiles"
   ]
  },
  {
   "cell_type": "markdown",
   "metadata": {},
   "source": [
    "### Inicializar FEL\n",
    "\n",
    "```Python\n",
    "FEL = []\n",
    "for i in range(M):\n",
    "    FEL.append((i,randExp(lamb)))\n",
    "FEL.sort(key=itemgetter(1))\n",
    "```"
   ]
  },
  {
   "cell_type": "code",
   "execution_count": 5,
   "metadata": {},
   "outputs": [
    {
     "data": {
      "text/plain": [
       "[(4, array([0.0140403])),\n",
       " (3, array([0.0687607])),\n",
       " (2, array([0.11174997])),\n",
       " (0, array([0.40383527])),\n",
       " (1, array([0.76350818]))]"
      ]
     },
     "execution_count": 5,
     "metadata": {},
     "output_type": "execute_result"
    }
   ],
   "source": [
    "from operator import itemgetter\n",
    "\n",
    "M = 5\n",
    "lamb = 2\n",
    "\n",
    "FEL = []\n",
    "for i in range(M):\n",
    "    FEL.append((i,randExp(lamb)))\n",
    "FEL.sort(key=itemgetter(1))\n",
    "FEL"
   ]
  },
  {
   "cell_type": "markdown",
   "metadata": {},
   "source": [
    "### Sacar evento inminente de la FEL\n",
    "\n",
    "```Python\n",
    "eventoActual = FEL.pop(0)\n",
    "```"
   ]
  },
  {
   "cell_type": "code",
   "execution_count": 6,
   "metadata": {},
   "outputs": [
    {
     "name": "stdout",
     "output_type": "stream",
     "text": [
      "(4, array([0.0140403]))\n",
      "4\n"
     ]
    }
   ],
   "source": [
    "eventoActual = FEL.pop(0)\n",
    "print(eventoActual)\n",
    "\n",
    "if eventoActual[0] < M:\n",
    "    # Evento de llegada\n",
    "    idEvento = eventoActual[0]\n",
    "    print(idEvento)\n",
    "else:\n",
    "    # Evento de salida\n",
    "    idEvento = eventoActual[0] - M\n",
    "    print(idEvento)\n"
   ]
  },
  {
   "cell_type": "markdown",
   "metadata": {},
   "source": [
    "### Insertar evento a la FEL\n",
    "\n",
    "Nuestra FEL una vez inicializada, tendrá un largo de M eventos y mantendrá dicho tamaño durante toda la simulación. Su contenido irá cambiando a una mezcla de eventos de llegada y salida al ir sacando e insertando eventos en el transcurso de la simulación siempre manteniendo dicho largo M.\n",
    "\n",
    "Una vez removido el evento actual de la línea de tiempo, se debe registrar nuevamente en la FEL, ya sea cómo llegada o salida, dependiendo de la situación en la que nos encontremos. De aqui surgen 3 situaciones que debemos manejar al insertar un evento a la FEL:\n",
    "\n",
    "1. **Insertar un evento de arribo producto de un bloqueo.** Un evento llega a atenderse pero al estar copado el sistema se reingresa a la FEL para que intente atenderse de nuevo en un tiempo posterior.\n",
    "\n",
    "2. **Insertar un evento de arribo producto de una salida** Un evento termina su atención liberando el canal. Hecho esto se reingresa a la FEL para que intente atenderse de nuevo en un tiempo posterior. \n",
    "\n",
    "3. **Insertar un evento de salida producto de una atención** Un evento llega a atenderse y hay canales disponibles. Se registra el evento como una salida en la FEL junto al tiempo en termina su atención y libera el canal.  \n",
    "\n",
    "``` Python\n",
    "\n",
    "# Evento Arribo por bloqueo\n",
    "tiempoArribo = eventoActual[1] + randExp(lamb)\n",
    "FEL.append((eventoActual[0], tiempoArribo))\n",
    "FEL.sort(key=itemgetter(1))\n",
    "\n",
    "# Evento Arribo por salida\n",
    "tiempoArribo = eventoActual[1] + randExp(lamb)\n",
    "FEL.append((eventoActual[0]-M, tiempoArribo))\n",
    "FEL.sort(key=itemgetter(1))\n",
    "\n",
    "# Evento Salida por atención\n",
    "tiempoSalida = eventoActual[1] + randExp(mu)\n",
    "FEL.append((eventoActual[0]+M, tiempoSalida))\n",
    "FEL.sort(key=itemgetter(1))\n",
    "```"
   ]
  },
  {
   "cell_type": "markdown",
   "metadata": {},
   "source": [
    "## Salidas\n",
    "\n",
    "Cómo salida de **una** simulación, se debe obtener 2 cosas fundamentales:\n",
    "\n",
    "1. La probabilidad total de bloqueo por el simulador para el número de llegadas. $P_{bloqueoTotal} = \\frac{BloqueosTotales}{LLEGADAS}$ <br><br>\n",
    "\n",
    "2. Una lista de probabilidades de bloqueo calculadas cada $\\frac{LLEGADAS}{100}$ arribos de usuarios al enlace. $P_{bloqueo} = \\frac{BloqueosActuales}{ArribosActuales}$\n",
    "\n",
    "A partir de dicha lista de probabilidades, deben generar un gráfico con ``matplotlib`` donde se muestre el avance de la probabilidad de bloqueo (eje y) respecto al número de llegadas ejecutadas (eje x)."
   ]
  },
  {
   "cell_type": "markdown",
   "metadata": {},
   "source": [
    "## Entrega\n",
    "\n",
    "Su simulador deben de ejecutarlo 8 veces, en cada una de ellas con un criterio de parada igual a $10^{i}$ llegadas de usuarios, donde i tiene valores *{2,3,4,5,6,7,8,9}*. En cada simulación se debe obtener la probabilidad de bloqueo total para esa cantidad de llegadas y generar el gráfico mencionado sobre el avance de la probabilidad de bloqueo vs número de llegadas ejecutadas.\n",
    "\n",
    "Una vez ejecutado el simulador las 8 veces y teniendo las 8 probabilidades totales, deben generar un nuevo gráfico que muestre las probabilidades de bloqueo totales (eje y) vs LLEGADAS $10^{i}$ ejecutadas en cada simulación (eje x).\n",
    "\n",
    "Terminado la ejecución de la tarea, tendrán 9 gráficos que presenten la información respecto a las probabilidades de bloqueo en el problema de asignación de canales."
   ]
  },
  {
   "cell_type": "markdown",
   "metadata": {},
   "source": [
    "### Fecha Entrega : Viernes 06 de Mayo de 2021 hasta las 23.59hrs. \n",
    "\n",
    "La asignación es individual, donde se debe entregar en aula o por correo electrónico a su queridísimo profesor ( nicolas.jara@usm.cl ) y con copia a su queridísimo ayudante (juan.sanchezp@sansano.usm.cl) cómo un archivo comprimido en el formato **TEL341 Nombre Apellido T1**.\n",
    "\n",
    "El archivo debe contener todo lo necesario para la evaluación. Asegurese que pueda ser ejecutado tanto desde Jupyter Notebook como que pueda visualizarse claramente mediante Voilà desplegando los datos y su análisis. \n",
    "\n",
    "##### Importante\n",
    "Su código debe ser autocontenido y comentado con las explicaciones pertinentes. Para esto documente su código y mediante las facilidades de Jupyter con Markdown, incluya una breve introducción sobre el objetivo de su simulador, la definición y explicación de las variables/estados y un conclusión respecto a los datos y gráficos obtenidos."
   ]
  },
  {
   "cell_type": "code",
   "execution_count": null,
   "metadata": {},
   "outputs": [],
   "source": []
  }
 ],
 "metadata": {
  "kernelspec": {
   "display_name": "Python 3 (ipykernel)",
   "language": "python",
   "name": "python3"
  },
  "language_info": {
   "codemirror_mode": {
    "name": "ipython",
    "version": 3
   },
   "file_extension": ".py",
   "mimetype": "text/x-python",
   "name": "python",
   "nbconvert_exporter": "python",
   "pygments_lexer": "ipython3",
   "version": "3.9.6"
  },
  "latex_envs": {
   "LaTeX_envs_menu_present": true,
   "autoclose": false,
   "autocomplete": true,
   "bibliofile": "biblio.bib",
   "cite_by": "apalike",
   "current_citInitial": 1,
   "eqLabelWithNumbers": true,
   "eqNumInitial": 1,
   "hotkeys": {
    "equation": "Ctrl-E",
    "itemize": "Ctrl-I"
   },
   "labels_anchors": false,
   "latex_user_defs": false,
   "report_style_numbering": false,
   "user_envs_cfg": false
  }
 },
 "nbformat": 4,
 "nbformat_minor": 4
}
